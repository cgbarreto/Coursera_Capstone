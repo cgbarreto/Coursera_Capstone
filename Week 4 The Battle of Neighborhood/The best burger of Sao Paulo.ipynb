{
 "metadata": {
  "language_info": {
   "codemirror_mode": {
    "name": "ipython",
    "version": 3
   },
   "file_extension": ".py",
   "mimetype": "text/x-python",
   "name": "python",
   "nbconvert_exporter": "python",
   "pygments_lexer": "ipython3",
   "version": "3.7.7-final"
  },
  "orig_nbformat": 2,
  "kernelspec": {
   "name": "python3",
   "display_name": "Python 3"
  }
 },
 "nbformat": 4,
 "nbformat_minor": 2,
 "cells": [
  {
   "source": [
    "# Capstone Project - The best burger of São Paulo"
   ],
   "cell_type": "markdown",
   "metadata": {}
  },
  {
   "source": [
    "Double-click **here** for further instructions\n",
    "\n",
    "<!---\n",
    "Clearly define a problem or an idea of your choice, where you would need to leverage the Foursquare location data to solve or execute. Remember that data science problems always target an audience and are meant to help a group of stakeholders solve a problem, so make sure that you explicitly describe your audience and why they would care about your problem.\n",
    "\n",
    "This submission will eventually become your Introduction/Business Problem section in your final report. So I recommend that you push the report (having your Introduction/Business Problem section only for now) to your Github repository and submit a link to it.\n",
    "\n",
    "Describe the data that you will be using to solve the problem or execute your idea. Remember that you will need to use the Foursquare location data to solve the problem or execute your idea. You can absolutely use other datasets in combination with the Foursquare location data. So make sure that you provide adequate explanation and discussion, with examples, of the data that you will be using, even if it is only Foursquare location data.\n",
    "\n",
    "This submission will eventually become your Data section in your final report. So I recommend that you push the report (having your Data section) to your Github repository and submit a link to it.\n",
    "--->"
   ],
   "cell_type": "markdown",
   "metadata": {}
  },
  {
   "source": [
    "## Introduction/Business Problem"
   ],
   "cell_type": "markdown",
   "metadata": {}
  },
  {
   "source": [
    "Sao Paulo is the largest and most populous Brazilian municipality, the capital of a homonymous federative state and a corporate and financial center in South America. It is a city that welcomes internal immigrants (other cities and states of the country) in addition to foreign communities, thus printing a multicultural and a cosmopolitan character to the city. From this mix and contact points of diverse cultures, its culinary scene is very diverse and highly valued by the locals.\n",
    "\n",
    "Paulistanos (people born in the city) have a special affection and a great pride of three main dishes: Pizzas, Feijoada and surprisingly ... Burgers!\n",
    "There is a huge variety of different recipes, meat blends and seasonings in addition to a common detail: Several restaurants claim to prepare the best burger in town, which makes the choice of consumers very difficult!\n",
    "\n",
    "Last time I checked, there is no nomination to judge the best hamburger in town... What if we investigate this claiming using public data about the city of São Paulo and data from the Foursquare API? We will rely on the reviews of our fellow consumers to find the best!\n",
    "\n",
    "- What are the restaurants that make up the top 10 on evaluation?\n",
    "- Which neighborhoods in the city have the best burger restaurants in average evaluation?\n",
    "\n",
    "<!---\n",
    "São Paulo é o maior e mais populoso municipio brasileiro, capital de um estado homonimo e centro coorporativo e financeiro da América do Sul. É uma cidade que acolhe imigrantes internos (outras cidades e estados do país) além de comunidades estrangeiras, imprimindo assim um caracter multicultural e cosmopolita a cidade. Desta mistura e pontos de contato de diversar culturas, o cenário culinário da cidade é muito diverso e extramente valorizado pelos locais.\n",
    "\n",
    "Paulistanos (pessoas nascidas na cidade) tem um carinho especial e um grande orgulho de três principais pratos: Pizzas, Feijoada e surpreendemente... Hamburguers! \n",
    "Há uma variedade enorme de diferentes receitas, blends de carne e temperos além de um detalhe em comum: Vários restaurantes afirmam prepararem o melhor burger da cidade, o que torna a escolha dos consumidores muito dificil!\n",
    "\n",
    "Da ultima vez que veriquei não há nenhuma entidade estabelecida para julgar de maneira indubitável o melhor burger da cidade... Que investigarmos lançando mão dos dados públicos sobre a cidade de São Paulo e dos dados da API do Foursquare? Vamos confiar nas avaliações dos nossos colegas consumidores para encontrar os melhores!\n",
    "\n",
    "- Quais são as hamburguerias que compõe o top 10 em avaliação?\n",
    "- Quais são os bairros da cidade com a melhores medias de avaliações das hamburguerias?\n",
    "--->"
   ],
   "cell_type": "markdown",
   "metadata": {}
  },
  {
   "source": [
    "## Data"
   ],
   "cell_type": "markdown",
   "metadata": {}
  },
  {
   "source": [
    "In order to build our analysis, two data sources are required:\n",
    "<!---\n",
    "Com o intuito de construir nossa análise, serão inicialmente necessárias duas fontes de dados:\n",
    "--->"
   ],
   "cell_type": "markdown",
   "metadata": {}
  },
  {
   "source": [
    "**1. Postcode, City, Neighborhood, Street addresse, Geospatial Coordinates (latitude and longitude)**\n",
    "\n",
    "With the exception of geospatial data, the data was obtained from the website http://cep.la/baixar, with UTF-8 encoding, version YEAR 2018, tabulated in csv with web scraping from the official post office website.\n",
    "\n",
    "Latitude and longitude for each neighborhood will be recovered using specific python libraries.\n",
    "\n",
    "**2. Foursquare API**\n",
    "\n",
    "The get method of the 'explore' endpoint will be used in particular, which returns the following information by default:\n",
    "\n",
    "    - Neighborhood\n",
    "    - Neighborhood Latitude\n",
    "    - Neighborhood Longitude\n",
    "    - Venue\n",
    "    - Name of the venue e.g. the name of a store or restaurant\n",
    "    - Venue Latitude\n",
    "    - Venue Longitude\n",
    "    - Venue Category\n",
    "\n",
    "<!---\n",
    "**1. Códigos postais, Cidade, Bairros, Endereços das ruas, Coordenadas Geoespaciais (latitude e longitude)**\n",
    "Com excessão dos dados geoespaciais, os dados tabulados foram obtidos no site http://cep.la/baixar, UTF-8 ANO 2018 tabulados em csv com origem em scraping do site dos correios.\n",
    "A latidade e longitude para cada bairro serão calculadas utilizando bibliotecas python específicas.\n",
    "\n",
    "**2. API Foursquare**\n",
    "Será utilizado especialmente o método get do endpoint 'explore', o qual tem por retorno padrão as seguintes informações:\n",
    "    - Neighborhood\n",
    "    - Neighborhood Latitude\n",
    "    - Neighborhood Longitude\n",
    "    - Venue\n",
    "    - Name of the venue e.g. the name of a store or restaurant\n",
    "    - Venue Latitude\n",
    "    - Venue Longitude\n",
    "    - Venue Category\n",
    "--->"
   ],
   "cell_type": "markdown",
   "metadata": {}
  }
 ]
}