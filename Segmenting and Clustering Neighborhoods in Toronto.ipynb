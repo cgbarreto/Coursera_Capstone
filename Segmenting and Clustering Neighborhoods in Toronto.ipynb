{
 "metadata": {
  "language_info": {
   "codemirror_mode": {
    "name": "ipython",
    "version": 3
   },
   "file_extension": ".py",
   "mimetype": "text/x-python",
   "name": "python",
   "nbconvert_exporter": "python",
   "pygments_lexer": "ipython3",
   "version": "3.7.7-final"
  },
  "orig_nbformat": 2,
  "kernelspec": {
   "name": "python3",
   "display_name": "Python 3"
  }
 },
 "nbformat": 4,
 "nbformat_minor": 2,
 "cells": [
  {
   "source": [
    "# Segmenting and Clustering Neighborhoods in Toronto"
   ],
   "cell_type": "markdown",
   "metadata": {}
  },
  {
   "source": [
    "# Instructions\n",
    "In this assignment, you will be required to explore, segment, and cluster the neighborhoods in the city of Toronto. However, unlike New York, the neighborhood data is not readily available on the internet. What is interesting about the field of data science is that each project can be challenging in its unique way, so you need to learn to be agile and refine the skill to learn new libraries and tools quickly depending on the project.\n",
    "\n",
    "For the Toronto neighborhood data, a Wikipedia page exists that has all the information we need to explore and cluster the neighborhoods in Toronto. You will be required to scrape the Wikipedia page and wrangle the data, clean it, and then read it into a pandas dataframe so that it is in a structured format like the New York dataset.\n",
    "\n",
    "Once the data is in a structured format, you can replicate the analysis that we did to the New York City dataset to explore and cluster the neighborhoods in the city of Toronto.\n",
    "\n",
    "Your submission will be a link to your Jupyter Notebook on your Github repository."
   ],
   "cell_type": "markdown",
   "metadata": {}
  },
  {
   "source": [
    "# Part 1\n",
    "\n",
    "The part 1 consists in scraping the data from a wiki url and pre processing the information recovered"
   ],
   "cell_type": "markdown",
   "metadata": {}
  },
  {
   "cell_type": "code",
   "execution_count": 1,
   "metadata": {},
   "outputs": [],
   "source": [
    "import numpy as np\n",
    "import pandas as pd"
   ]
  },
  {
   "source": [
    "URL read with pandas and encoding 'Not assigned' values as NaN"
   ],
   "cell_type": "markdown",
   "metadata": {}
  },
  {
   "cell_type": "code",
   "execution_count": 2,
   "metadata": {},
   "outputs": [],
   "source": [
    "url ='https://en.wikipedia.org/wiki/List_of_postal_codes_of_Canada:_M'\n",
    "df = pd.read_html(url, na_values= 'Not assigned')[0]"
   ]
  },
  {
   "source": [
    "Filtering out the rows with NaN values on the column 'Borough':"
   ],
   "cell_type": "markdown",
   "metadata": {}
  },
  {
   "cell_type": "code",
   "execution_count": 3,
   "metadata": {},
   "outputs": [],
   "source": [
    "df = df[df['Borough'].notna()]"
   ]
  },
  {
   "source": [
    "Restarting the dataframe index:"
   ],
   "cell_type": "markdown",
   "metadata": {}
  },
  {
   "cell_type": "code",
   "execution_count": 4,
   "metadata": {},
   "outputs": [],
   "source": [
    "df.reset_index(inplace=True, drop=True)"
   ]
  },
  {
   "source": [
    "Grouping the data using the postal code:"
   ],
   "cell_type": "markdown",
   "metadata": {}
  },
  {
   "cell_type": "code",
   "execution_count": 5,
   "metadata": {},
   "outputs": [
    {
     "output_type": "execute_result",
     "data": {
      "text/plain": [
       "  Postal Code      Borough                           Neighbourhood\n",
       "0         M1B  Scarborough                          Malvern, Rouge\n",
       "1         M1C  Scarborough  Rouge Hill, Port Union, Highland Creek\n",
       "2         M1E  Scarborough       Guildwood, Morningside, West Hill\n",
       "3         M1G  Scarborough                                  Woburn\n",
       "4         M1H  Scarborough                               Cedarbrae"
      ],
      "text/html": "<div>\n<style scoped>\n    .dataframe tbody tr th:only-of-type {\n        vertical-align: middle;\n    }\n\n    .dataframe tbody tr th {\n        vertical-align: top;\n    }\n\n    .dataframe thead th {\n        text-align: right;\n    }\n</style>\n<table border=\"1\" class=\"dataframe\">\n  <thead>\n    <tr style=\"text-align: right;\">\n      <th></th>\n      <th>Postal Code</th>\n      <th>Borough</th>\n      <th>Neighbourhood</th>\n    </tr>\n  </thead>\n  <tbody>\n    <tr>\n      <th>0</th>\n      <td>M1B</td>\n      <td>Scarborough</td>\n      <td>Malvern, Rouge</td>\n    </tr>\n    <tr>\n      <th>1</th>\n      <td>M1C</td>\n      <td>Scarborough</td>\n      <td>Rouge Hill, Port Union, Highland Creek</td>\n    </tr>\n    <tr>\n      <th>2</th>\n      <td>M1E</td>\n      <td>Scarborough</td>\n      <td>Guildwood, Morningside, West Hill</td>\n    </tr>\n    <tr>\n      <th>3</th>\n      <td>M1G</td>\n      <td>Scarborough</td>\n      <td>Woburn</td>\n    </tr>\n    <tr>\n      <th>4</th>\n      <td>M1H</td>\n      <td>Scarborough</td>\n      <td>Cedarbrae</td>\n    </tr>\n  </tbody>\n</table>\n</div>"
     },
     "metadata": {},
     "execution_count": 5
    }
   ],
   "source": [
    "df_grouped = df.groupby(by='Postal Code').first()\n",
    "df_grouped.reset_index(inplace=True)\n",
    "df_grouped.head()"
   ]
  },
  {
   "source": [
    "Replacing the 'Not assigned' value on Neighbourhood by the respective 'Borough':"
   ],
   "cell_type": "markdown",
   "metadata": {}
  },
  {
   "cell_type": "code",
   "execution_count": 6,
   "metadata": {},
   "outputs": [
    {
     "output_type": "execute_result",
     "data": {
      "text/plain": [
       "  Postal Code      Borough                           Neighbourhood\n",
       "0         M1B  Scarborough                          Malvern, Rouge\n",
       "1         M1C  Scarborough  Rouge Hill, Port Union, Highland Creek\n",
       "2         M1E  Scarborough       Guildwood, Morningside, West Hill\n",
       "3         M1G  Scarborough                                  Woburn\n",
       "4         M1H  Scarborough                               Cedarbrae"
      ],
      "text/html": "<div>\n<style scoped>\n    .dataframe tbody tr th:only-of-type {\n        vertical-align: middle;\n    }\n\n    .dataframe tbody tr th {\n        vertical-align: top;\n    }\n\n    .dataframe thead th {\n        text-align: right;\n    }\n</style>\n<table border=\"1\" class=\"dataframe\">\n  <thead>\n    <tr style=\"text-align: right;\">\n      <th></th>\n      <th>Postal Code</th>\n      <th>Borough</th>\n      <th>Neighbourhood</th>\n    </tr>\n  </thead>\n  <tbody>\n    <tr>\n      <th>0</th>\n      <td>M1B</td>\n      <td>Scarborough</td>\n      <td>Malvern, Rouge</td>\n    </tr>\n    <tr>\n      <th>1</th>\n      <td>M1C</td>\n      <td>Scarborough</td>\n      <td>Rouge Hill, Port Union, Highland Creek</td>\n    </tr>\n    <tr>\n      <th>2</th>\n      <td>M1E</td>\n      <td>Scarborough</td>\n      <td>Guildwood, Morningside, West Hill</td>\n    </tr>\n    <tr>\n      <th>3</th>\n      <td>M1G</td>\n      <td>Scarborough</td>\n      <td>Woburn</td>\n    </tr>\n    <tr>\n      <th>4</th>\n      <td>M1H</td>\n      <td>Scarborough</td>\n      <td>Cedarbrae</td>\n    </tr>\n  </tbody>\n</table>\n</div>"
     },
     "metadata": {},
     "execution_count": 6
    }
   ],
   "source": [
    "df_grouped['Neighbourhood'].replace('Not assigned', df_grouped['Borough'])\n",
    "df_grouped.head()"
   ]
  },
  {
   "cell_type": "code",
   "execution_count": 7,
   "metadata": {},
   "outputs": [
    {
     "output_type": "execute_result",
     "data": {
      "text/plain": [
       "(103, 3)"
      ]
     },
     "metadata": {},
     "execution_count": 7
    }
   ],
   "source": [
    "df_grouped.shape"
   ]
  },
  {
   "source": [
    "# Part 2\n",
    "\n",
    "Load new geolocation data of Toronto, merge with the dataframe created in the Part 1 in order to create a unified dataframe"
   ],
   "cell_type": "markdown",
   "metadata": {}
  },
  {
   "source": [
    "Import the geocoder lib and folium lib:"
   ],
   "cell_type": "markdown",
   "metadata": {}
  },
  {
   "cell_type": "code",
   "execution_count": 55,
   "metadata": {},
   "outputs": [],
   "source": [
    "import geocoder # geographical data"
   ]
  },
  {
   "source": [
    "Definition of the geodata search function:"
   ],
   "cell_type": "markdown",
   "metadata": {}
  },
  {
   "cell_type": "code",
   "execution_count": 9,
   "metadata": {},
   "outputs": [],
   "source": [
    "def geodataSearch(postal_code):\n",
    "    from numpy import nan\n",
    "    lat_lng_coords = None\n",
    "    num_calls = 0\n",
    "    LIMIT = 10\n",
    "    while(lat_lng_coords is None and num_calls < LIMIT):\n",
    "        g = geocoder.google('{}, Toronto, Ontario'.format(postal_code))\n",
    "        lat_lng_coords = g.latlng\n",
    "        num_calls += 1\n",
    "    \n",
    "    if(num_calls >= LIMIT):\n",
    "        print('Google is not responding')\n",
    "        return [nan, nan]\n",
    "\n",
    "    return lat_lng_coords"
   ]
  },
  {
   "cell_type": "code",
   "execution_count": 10,
   "metadata": {},
   "outputs": [
    {
     "output_type": "stream",
     "name": "stdout",
     "text": [
      "Google is not responding\n"
     ]
    }
   ],
   "source": [
    "latitude, longitude = geodataSearch('M5G')"
   ]
  },
  {
   "source": [
    "Since geocoder is no longer responding to calls, I'll work with the csv data indicated in the course website:"
   ],
   "cell_type": "markdown",
   "metadata": {}
  },
  {
   "cell_type": "code",
   "execution_count": 11,
   "metadata": {},
   "outputs": [
    {
     "output_type": "execute_result",
     "data": {
      "text/plain": [
       "  Postal Code   Latitude  Longitude\n",
       "0         M1B  43.806686 -79.194353\n",
       "1         M1C  43.784535 -79.160497\n",
       "2         M1E  43.763573 -79.188711\n",
       "3         M1G  43.770992 -79.216917\n",
       "4         M1H  43.773136 -79.239476"
      ],
      "text/html": "<div>\n<style scoped>\n    .dataframe tbody tr th:only-of-type {\n        vertical-align: middle;\n    }\n\n    .dataframe tbody tr th {\n        vertical-align: top;\n    }\n\n    .dataframe thead th {\n        text-align: right;\n    }\n</style>\n<table border=\"1\" class=\"dataframe\">\n  <thead>\n    <tr style=\"text-align: right;\">\n      <th></th>\n      <th>Postal Code</th>\n      <th>Latitude</th>\n      <th>Longitude</th>\n    </tr>\n  </thead>\n  <tbody>\n    <tr>\n      <th>0</th>\n      <td>M1B</td>\n      <td>43.806686</td>\n      <td>-79.194353</td>\n    </tr>\n    <tr>\n      <th>1</th>\n      <td>M1C</td>\n      <td>43.784535</td>\n      <td>-79.160497</td>\n    </tr>\n    <tr>\n      <th>2</th>\n      <td>M1E</td>\n      <td>43.763573</td>\n      <td>-79.188711</td>\n    </tr>\n    <tr>\n      <th>3</th>\n      <td>M1G</td>\n      <td>43.770992</td>\n      <td>-79.216917</td>\n    </tr>\n    <tr>\n      <th>4</th>\n      <td>M1H</td>\n      <td>43.773136</td>\n      <td>-79.239476</td>\n    </tr>\n  </tbody>\n</table>\n</div>"
     },
     "metadata": {},
     "execution_count": 11
    }
   ],
   "source": [
    "geodata = pd.read_csv('Geospatial_Coordinates.csv')\n",
    "geodata.head()"
   ]
  },
  {
   "source": [
    "Creating a unified dataframe from informations in df_grouped and geodata"
   ],
   "cell_type": "markdown",
   "metadata": {}
  },
  {
   "cell_type": "code",
   "execution_count": 12,
   "metadata": {},
   "outputs": [
    {
     "output_type": "execute_result",
     "data": {
      "text/plain": [
       "   Postal Code      Borough  \\\n",
       "0          M1B  Scarborough   \n",
       "1          M1C  Scarborough   \n",
       "2          M1E  Scarborough   \n",
       "3          M1G  Scarborough   \n",
       "4          M1H  Scarborough   \n",
       "5          M1J  Scarborough   \n",
       "6          M1K  Scarborough   \n",
       "7          M1L  Scarborough   \n",
       "8          M1M  Scarborough   \n",
       "9          M1N  Scarborough   \n",
       "10         M1P  Scarborough   \n",
       "11         M1R  Scarborough   \n",
       "12         M1S  Scarborough   \n",
       "13         M1T  Scarborough   \n",
       "14         M1V  Scarborough   \n",
       "\n",
       "                                        Neighbourhood   Latitude  Longitude  \n",
       "0                                      Malvern, Rouge  43.806686 -79.194353  \n",
       "1              Rouge Hill, Port Union, Highland Creek  43.784535 -79.160497  \n",
       "2                   Guildwood, Morningside, West Hill  43.763573 -79.188711  \n",
       "3                                              Woburn  43.770992 -79.216917  \n",
       "4                                           Cedarbrae  43.773136 -79.239476  \n",
       "5                                 Scarborough Village  43.744734 -79.239476  \n",
       "6         Kennedy Park, Ionview, East Birchmount Park  43.727929 -79.262029  \n",
       "7                     Golden Mile, Clairlea, Oakridge  43.711112 -79.284577  \n",
       "8     Cliffside, Cliffcrest, Scarborough Village West  43.716316 -79.239476  \n",
       "9                         Birch Cliff, Cliffside West  43.692657 -79.264848  \n",
       "10  Dorset Park, Wexford Heights, Scarborough Town...  43.757410 -79.273304  \n",
       "11                                  Wexford, Maryvale  43.750072 -79.295849  \n",
       "12                                          Agincourt  43.794200 -79.262029  \n",
       "13            Clarks Corners, Tam O'Shanter, Sullivan  43.781638 -79.304302  \n",
       "14  Milliken, Agincourt North, Steeles East, L'Amo...  43.815252 -79.284577  "
      ],
      "text/html": "<div>\n<style scoped>\n    .dataframe tbody tr th:only-of-type {\n        vertical-align: middle;\n    }\n\n    .dataframe tbody tr th {\n        vertical-align: top;\n    }\n\n    .dataframe thead th {\n        text-align: right;\n    }\n</style>\n<table border=\"1\" class=\"dataframe\">\n  <thead>\n    <tr style=\"text-align: right;\">\n      <th></th>\n      <th>Postal Code</th>\n      <th>Borough</th>\n      <th>Neighbourhood</th>\n      <th>Latitude</th>\n      <th>Longitude</th>\n    </tr>\n  </thead>\n  <tbody>\n    <tr>\n      <th>0</th>\n      <td>M1B</td>\n      <td>Scarborough</td>\n      <td>Malvern, Rouge</td>\n      <td>43.806686</td>\n      <td>-79.194353</td>\n    </tr>\n    <tr>\n      <th>1</th>\n      <td>M1C</td>\n      <td>Scarborough</td>\n      <td>Rouge Hill, Port Union, Highland Creek</td>\n      <td>43.784535</td>\n      <td>-79.160497</td>\n    </tr>\n    <tr>\n      <th>2</th>\n      <td>M1E</td>\n      <td>Scarborough</td>\n      <td>Guildwood, Morningside, West Hill</td>\n      <td>43.763573</td>\n      <td>-79.188711</td>\n    </tr>\n    <tr>\n      <th>3</th>\n      <td>M1G</td>\n      <td>Scarborough</td>\n      <td>Woburn</td>\n      <td>43.770992</td>\n      <td>-79.216917</td>\n    </tr>\n    <tr>\n      <th>4</th>\n      <td>M1H</td>\n      <td>Scarborough</td>\n      <td>Cedarbrae</td>\n      <td>43.773136</td>\n      <td>-79.239476</td>\n    </tr>\n    <tr>\n      <th>5</th>\n      <td>M1J</td>\n      <td>Scarborough</td>\n      <td>Scarborough Village</td>\n      <td>43.744734</td>\n      <td>-79.239476</td>\n    </tr>\n    <tr>\n      <th>6</th>\n      <td>M1K</td>\n      <td>Scarborough</td>\n      <td>Kennedy Park, Ionview, East Birchmount Park</td>\n      <td>43.727929</td>\n      <td>-79.262029</td>\n    </tr>\n    <tr>\n      <th>7</th>\n      <td>M1L</td>\n      <td>Scarborough</td>\n      <td>Golden Mile, Clairlea, Oakridge</td>\n      <td>43.711112</td>\n      <td>-79.284577</td>\n    </tr>\n    <tr>\n      <th>8</th>\n      <td>M1M</td>\n      <td>Scarborough</td>\n      <td>Cliffside, Cliffcrest, Scarborough Village West</td>\n      <td>43.716316</td>\n      <td>-79.239476</td>\n    </tr>\n    <tr>\n      <th>9</th>\n      <td>M1N</td>\n      <td>Scarborough</td>\n      <td>Birch Cliff, Cliffside West</td>\n      <td>43.692657</td>\n      <td>-79.264848</td>\n    </tr>\n    <tr>\n      <th>10</th>\n      <td>M1P</td>\n      <td>Scarborough</td>\n      <td>Dorset Park, Wexford Heights, Scarborough Town...</td>\n      <td>43.757410</td>\n      <td>-79.273304</td>\n    </tr>\n    <tr>\n      <th>11</th>\n      <td>M1R</td>\n      <td>Scarborough</td>\n      <td>Wexford, Maryvale</td>\n      <td>43.750072</td>\n      <td>-79.295849</td>\n    </tr>\n    <tr>\n      <th>12</th>\n      <td>M1S</td>\n      <td>Scarborough</td>\n      <td>Agincourt</td>\n      <td>43.794200</td>\n      <td>-79.262029</td>\n    </tr>\n    <tr>\n      <th>13</th>\n      <td>M1T</td>\n      <td>Scarborough</td>\n      <td>Clarks Corners, Tam O'Shanter, Sullivan</td>\n      <td>43.781638</td>\n      <td>-79.304302</td>\n    </tr>\n    <tr>\n      <th>14</th>\n      <td>M1V</td>\n      <td>Scarborough</td>\n      <td>Milliken, Agincourt North, Steeles East, L'Amo...</td>\n      <td>43.815252</td>\n      <td>-79.284577</td>\n    </tr>\n  </tbody>\n</table>\n</div>"
     },
     "metadata": {},
     "execution_count": 12
    }
   ],
   "source": [
    "df = pd.concat([df_grouped,geodata[['Latitude','Longitude']]], axis=1)\n",
    "df.head(15)"
   ]
  },
  {
   "source": [
    "# Part 3"
   ],
   "cell_type": "markdown",
   "metadata": {}
  },
  {
   "source": [
    "Filtering the dataframe to only the Boroughs that contain the word 'Toronto' on it's name:"
   ],
   "cell_type": "markdown",
   "metadata": {}
  },
  {
   "cell_type": "code",
   "execution_count": 29,
   "metadata": {},
   "outputs": [
    {
     "output_type": "execute_result",
     "data": {
      "text/plain": [
       "  Postal Code          Borough                   Neighbourhood   Latitude  \\\n",
       "0         M4E     East Toronto                     The Beaches  43.676357   \n",
       "1         M4K     East Toronto    The Danforth West, Riverdale  43.679557   \n",
       "2         M4L     East Toronto  India Bazaar, The Beaches West  43.668999   \n",
       "3         M4M     East Toronto                 Studio District  43.659526   \n",
       "4         M4N  Central Toronto                   Lawrence Park  43.728020   \n",
       "\n",
       "   Longitude  \n",
       "0 -79.293031  \n",
       "1 -79.352188  \n",
       "2 -79.315572  \n",
       "3 -79.340923  \n",
       "4 -79.388790  "
      ],
      "text/html": "<div>\n<style scoped>\n    .dataframe tbody tr th:only-of-type {\n        vertical-align: middle;\n    }\n\n    .dataframe tbody tr th {\n        vertical-align: top;\n    }\n\n    .dataframe thead th {\n        text-align: right;\n    }\n</style>\n<table border=\"1\" class=\"dataframe\">\n  <thead>\n    <tr style=\"text-align: right;\">\n      <th></th>\n      <th>Postal Code</th>\n      <th>Borough</th>\n      <th>Neighbourhood</th>\n      <th>Latitude</th>\n      <th>Longitude</th>\n    </tr>\n  </thead>\n  <tbody>\n    <tr>\n      <th>0</th>\n      <td>M4E</td>\n      <td>East Toronto</td>\n      <td>The Beaches</td>\n      <td>43.676357</td>\n      <td>-79.293031</td>\n    </tr>\n    <tr>\n      <th>1</th>\n      <td>M4K</td>\n      <td>East Toronto</td>\n      <td>The Danforth West, Riverdale</td>\n      <td>43.679557</td>\n      <td>-79.352188</td>\n    </tr>\n    <tr>\n      <th>2</th>\n      <td>M4L</td>\n      <td>East Toronto</td>\n      <td>India Bazaar, The Beaches West</td>\n      <td>43.668999</td>\n      <td>-79.315572</td>\n    </tr>\n    <tr>\n      <th>3</th>\n      <td>M4M</td>\n      <td>East Toronto</td>\n      <td>Studio District</td>\n      <td>43.659526</td>\n      <td>-79.340923</td>\n    </tr>\n    <tr>\n      <th>4</th>\n      <td>M4N</td>\n      <td>Central Toronto</td>\n      <td>Lawrence Park</td>\n      <td>43.728020</td>\n      <td>-79.388790</td>\n    </tr>\n  </tbody>\n</table>\n</div>"
     },
     "metadata": {},
     "execution_count": 29
    }
   ],
   "source": [
    "df_filtered =df[df['Borough'].str.contains('Toronto')]\n",
    "df_filtered.reset_index(inplace=True, drop=True)\n",
    "df_filtered.head()"
   ]
  },
  {
   "source": [
    "Verifying the dataframe size:"
   ],
   "cell_type": "markdown",
   "metadata": {}
  },
  {
   "cell_type": "code",
   "execution_count": 35,
   "metadata": {},
   "outputs": [
    {
     "output_type": "stream",
     "name": "stdout",
     "text": [
      "The dataframe fas 4 boroughs and 39 neighbourhoods\n"
     ]
    }
   ],
   "source": [
    "print('The dataframe has {} boroughs and {} neighbourhoods'.format(len(df_filtered['Borough'].unique()),\n",
    "df_filtered.shape[0]))"
   ]
  },
  {
   "source": [
    "Use geopy lib to get the latitude and logitude values of Toronto, and folium to render toronto map:"
   ],
   "cell_type": "markdown",
   "metadata": {}
  },
  {
   "cell_type": "code",
   "execution_count": 56,
   "metadata": {},
   "outputs": [],
   "source": [
    "from geopy.geocoders import Nominatim # geographical data\n",
    "import folium  # map rendering lib"
   ]
  },
  {
   "cell_type": "code",
   "execution_count": 132,
   "metadata": {},
   "outputs": [
    {
     "output_type": "stream",
     "name": "stdout",
     "text": [
      "The geographical coordinate of Toronto are 43.6534817, -79.3839347.\n"
     ]
    }
   ],
   "source": [
    "address = 'Toronto, Ontario'\n",
    "\n",
    "geolocator = Nominatim(user_agent='toronto_explorer')\n",
    "location = geolocator.geocode(address)\n",
    "toronto_latitude = location.latitude\n",
    "toronto_longitude = location.longitude\n",
    "print('The geographical coordinate of Toronto are {}, {}.'.format(toronto_latitude, toronto_longitude))"
   ]
  },
  {
   "source": [
    "Create a map of Toronto with neighborhoos superimposed on top"
   ],
   "cell_type": "markdown",
   "metadata": {}
  },
  {
   "cell_type": "code",
   "execution_count": 133,
   "metadata": {},
   "outputs": [
    {
     "output_type": "execute_result",
     "data": {
      "text/plain": [
       "<folium.folium.Map at 0x7febc57a53d0>"
      ],
      "text/html": "<div style=\"width:100%;\"><div style=\"position:relative;width:100%;height:0;padding-bottom:60%;\"><span style=\"color:#565656\">Make this Notebook Trusted to load map: File -> Trust Notebook</span><iframe src=\"about:blank\" style=\"position:absolute;width:100%;height:100%;left:0;top:0;border:none !important;\" data-html=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 onload=\"this.contentDocument.open();this.contentDocument.write(atob(this.getAttribute('data-html')));this.contentDocument.close();\" allowfullscreen webkitallowfullscreen mozallowfullscreen></iframe></div></div>"
     },
     "metadata": {},
     "execution_count": 133
    }
   ],
   "source": [
    "# Create map of Toronto using latitude and longitude values\n",
    "map_toronto = folium.Map(location=[toronto_latitude, toronto_longitude], zoom_start=11)\n",
    "\n",
    "# add markers to map\n",
    "\n",
    "for lat, lng, borough, neighborhood in zip(df_filtered['Latitude'],df_filtered['Longitude'], df_filtered['Borough'], df_filtered['Neighbourhood']):\n",
    "    label = '{}, {}'.format(neighborhood, borough)\n",
    "    label = folium.Popup(label, parse_html=True)\n",
    "    folium.CircleMarker(\n",
    "        [lat, lng],\n",
    "        radius = 5,\n",
    "        popup = label,\n",
    "        color = 'blue',\n",
    "        fill = True,\n",
    "        fill_color = '#3186cc',\n",
    "        fill_opacity = 0.7,\n",
    "        parse_html = False).add_to(map_toronto)\n",
    "\n",
    "map_toronto"
   ]
  },
  {
   "source": [
    "![Screenshot from folium 1](./SC_toronto_map1.png)"
   ],
   "cell_type": "markdown",
   "metadata": {}
  },
  {
   "source": [
    "Exploring Toronto's neighbourhoods using Foursquare geo API:"
   ],
   "cell_type": "markdown",
   "metadata": {}
  },
  {
   "cell_type": "code",
   "execution_count": 101,
   "metadata": {},
   "outputs": [
    {
     "output_type": "execute_result",
     "data": {
      "text/plain": [
       "array(['The Beaches', 'The Danforth West, Riverdale',\n",
       "       'India Bazaar, The Beaches West', 'Studio District',\n",
       "       'Lawrence Park', 'Davisville North',\n",
       "       'North Toronto West, Lawrence Park', 'Davisville',\n",
       "       'Moore Park, Summerhill East',\n",
       "       'Summerhill West, Rathnelly, South Hill, Forest Hill SE, Deer Park',\n",
       "       'Rosedale', 'St. James Town, Cabbagetown', 'Church and Wellesley',\n",
       "       'Regent Park, Harbourfront', 'Garden District, Ryerson',\n",
       "       'St. James Town', 'Berczy Park', 'Central Bay Street',\n",
       "       'Richmond, Adelaide, King',\n",
       "       'Harbourfront East, Union Station, Toronto Islands',\n",
       "       'Toronto Dominion Centre, Design Exchange',\n",
       "       'Commerce Court, Victoria Hotel', 'Roselawn',\n",
       "       'Forest Hill North & West, Forest Hill Road Park',\n",
       "       'The Annex, North Midtown, Yorkville',\n",
       "       'University of Toronto, Harbord',\n",
       "       'Kensington Market, Chinatown, Grange Park',\n",
       "       'CN Tower, King and Spadina, Railway Lands, Harbourfront West, Bathurst Quay, South Niagara, Island airport',\n",
       "       'Stn A PO Boxes', 'First Canadian Place, Underground city',\n",
       "       'Christie', 'Dufferin, Dovercourt Village',\n",
       "       'Little Portugal, Trinity',\n",
       "       'Brockton, Parkdale Village, Exhibition Place',\n",
       "       'High Park, The Junction South', 'Parkdale, Roncesvalles',\n",
       "       'Runnymede, Swansea',\n",
       "       \"Queen's Park, Ontario Provincial Government\",\n",
       "       'Business reply mail Processing Centre, South Central Letter Processing Plant Toronto'],\n",
       "      dtype=object)"
      ]
     },
     "metadata": {},
     "execution_count": 101
    }
   ],
   "source": [
    "import json # lib to handle json files\n",
    "import requests # lib to handle requests\n",
    "from pandas.io.json import json_normalize # convert JSON file into a pandas dataframe\n",
    "\n",
    "# File created in order to protect my access credentials\n",
    "from foursquare_credentials import CLIENT_ID, CLIENT_SECRET\n",
    "\n",
    "VERSION = '20180605' # API version\n",
    "LIMIT = 100 # Default API limite value\n",
    "RADIUS = 500\n",
    "df_filtered['Neighbourhood'].unique()"
   ]
  },
  {
   "source": [
    "## **Let's explore the 'Central Bay Street' neighbourhood:**"
   ],
   "cell_type": "markdown",
   "metadata": {}
  },
  {
   "cell_type": "code",
   "execution_count": 92,
   "metadata": {},
   "outputs": [
    {
     "output_type": "stream",
     "name": "stdout",
     "text": [
      "Latitude and longitude values of Central Bay Street are 43.6579524,-79.3873826.\n"
     ]
    }
   ],
   "source": [
    "neighborhood_name = 'Central Bay Street'\n",
    "neighborhood_index = df_filtered.index[df_filtered['Neighbourhood'] == neighborhood_name].tolist()[0]\n",
    "neighborhood_latitude = df_filtered.loc[neighborhood_index,'Latitude']\n",
    "neighborhood_longitude = df_filtered.loc[neighborhood_index,'Longitude']\n",
    "\n",
    "print('Latitude and longitude values of {} are {},{}.'.format(\n",
    "    neighborhood_name, \n",
    "    neighborhood_latitude, \n",
    "    neighborhood_longitude))"
   ]
  },
  {
   "source": [
    "Creating the get request URL for exploring the venues in the neighbourhood:"
   ],
   "cell_type": "markdown",
   "metadata": {}
  },
  {
   "cell_type": "code",
   "execution_count": 97,
   "metadata": {},
   "outputs": [],
   "source": [
    "url_base = 'https://api.foursquare.com/v2/'\n",
    "LIMIT = 100\n",
    "RADIUS = 500\n",
    "\n",
    "url = url_base + 'venues/explore?client_id={}&client_secret={}&v=20170511&ll={},{}&limit={}&radius={}'.format(CLIENT_ID, CLIENT_SECRET,neighborhood_latitude,neighborhood_longitude,LIMIT,RADIUS)\n",
    "\n",
    "results = requests.get(url).json()"
   ]
  },
  {
   "source": [
    "Function from Foursquare lab to extract the categories from the results"
   ],
   "cell_type": "markdown",
   "metadata": {}
  },
  {
   "cell_type": "code",
   "execution_count": 99,
   "metadata": {},
   "outputs": [],
   "source": [
    "# function that extracts the category of the venue\n",
    "def get_category_type(row):\n",
    "    try:\n",
    "        categories_list = row['categories']\n",
    "    except:\n",
    "        categories_list = row['venue.categories']\n",
    "        \n",
    "    if len(categories_list) == 0:\n",
    "        return None\n",
    "    else:\n",
    "        return categories_list[0]['name']"
   ]
  },
  {
   "cell_type": "code",
   "execution_count": 112,
   "metadata": {},
   "outputs": [
    {
     "output_type": "execute_result",
     "data": {
      "text/plain": [
       "                     name                 categories        lat        lng\n",
       "0          Jimmy's Coffee                Coffee Shop  43.658421 -79.385613\n",
       "1             Tim Hortons                Coffee Shop  43.658570 -79.385123\n",
       "2  Somethin' 2 Talk About  Middle Eastern Restaurant  43.658395 -79.385338\n",
       "3           Hailed Coffee                Coffee Shop  43.658833 -79.383684\n",
       "4          Neo Coffee Bar                Coffee Shop  43.660140 -79.385870"
      ],
      "text/html": "<div>\n<style scoped>\n    .dataframe tbody tr th:only-of-type {\n        vertical-align: middle;\n    }\n\n    .dataframe tbody tr th {\n        vertical-align: top;\n    }\n\n    .dataframe thead th {\n        text-align: right;\n    }\n</style>\n<table border=\"1\" class=\"dataframe\">\n  <thead>\n    <tr style=\"text-align: right;\">\n      <th></th>\n      <th>name</th>\n      <th>categories</th>\n      <th>lat</th>\n      <th>lng</th>\n    </tr>\n  </thead>\n  <tbody>\n    <tr>\n      <th>0</th>\n      <td>Jimmy's Coffee</td>\n      <td>Coffee Shop</td>\n      <td>43.658421</td>\n      <td>-79.385613</td>\n    </tr>\n    <tr>\n      <th>1</th>\n      <td>Tim Hortons</td>\n      <td>Coffee Shop</td>\n      <td>43.658570</td>\n      <td>-79.385123</td>\n    </tr>\n    <tr>\n      <th>2</th>\n      <td>Somethin' 2 Talk About</td>\n      <td>Middle Eastern Restaurant</td>\n      <td>43.658395</td>\n      <td>-79.385338</td>\n    </tr>\n    <tr>\n      <th>3</th>\n      <td>Hailed Coffee</td>\n      <td>Coffee Shop</td>\n      <td>43.658833</td>\n      <td>-79.383684</td>\n    </tr>\n    <tr>\n      <th>4</th>\n      <td>Neo Coffee Bar</td>\n      <td>Coffee Shop</td>\n      <td>43.660140</td>\n      <td>-79.385870</td>\n    </tr>\n  </tbody>\n</table>\n</div>"
     },
     "metadata": {},
     "execution_count": 112
    }
   ],
   "source": [
    "venues = results['response']['groups'][0]['items']\n",
    "\n",
    "nearby_venues = json_normalize(venues)\n",
    "\n",
    "# filter columns\n",
    "filtered_columns = ['venue.name', 'venue.categories', 'venue.location.lat', 'venue.location.lng']\n",
    "nearby_venues = nearby_venues.loc[:, filtered_columns]\n",
    "\n",
    "# filter the category for each row\n",
    "nearby_venues['venue.categories'] = nearby_venues.apply(get_category_type, axis=1)\n",
    "\n",
    "# clean columns names\n",
    "nearby_venues.columns = [col.split('.')[-1] for col in nearby_venues.columns]\n",
    "\n",
    "# clean columns\n",
    "nearby_venues.head()"
   ]
  },
  {
   "cell_type": "code",
   "execution_count": 113,
   "metadata": {},
   "outputs": [
    {
     "output_type": "stream",
     "name": "stdout",
     "text": [
      "68 venues were returned by Foursquare.\n"
     ]
    }
   ],
   "source": [
    "print('{} venues were returned by Foursquare.'.format(nearby_venues.shape[0]))"
   ]
  },
  {
   "cell_type": "code",
   "execution_count": 130,
   "metadata": {},
   "outputs": [
    {
     "output_type": "execute_result",
     "data": {
      "text/plain": [
       "<folium.folium.Map at 0x7febc7d15f90>"
      ],
      "text/html": "<div style=\"width:100%;\"><div style=\"position:relative;width:100%;height:0;padding-bottom:60%;\"><span style=\"color:#565656\">Make this Notebook Trusted to load map: File -> Trust Notebook</span><iframe src=\"about:blank\" style=\"position:absolute;width:100%;height:100%;left:0;top:0;border:none !important;\" data-html=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 onload=\"this.contentDocument.open();this.contentDocument.write(atob(this.getAttribute('data-html')));this.contentDocument.close();\" allowfullscreen webkitallowfullscreen mozallowfullscreen></iframe></div></div>"
     },
     "metadata": {},
     "execution_count": 130
    }
   ],
   "source": [
    "map_toronto = folium.Map(location=[latitude, longitude], zoom_start=14.5)\n",
    "\n",
    "# add markers to map\n",
    "\n",
    "for lat, lng, name, categorie in zip(nearby_venues['lat'],nearby_venues['lng'], nearby_venues['name'], nearby_venues['categories']):\n",
    "    label = '{}, {}'.format(name, categorie)\n",
    "    label = folium.Popup(label, parse_html=True)\n",
    "    folium.CircleMarker(\n",
    "        [lat, lng],\n",
    "        radius = 5,\n",
    "        popup = label,\n",
    "        color = 'blue',\n",
    "        fill = True,\n",
    "        fill_color = '#3186cc',\n",
    "        fill_opacity = 0.7,\n",
    "        parse_html = False).add_to(map_toronto)\n",
    "\n",
    "map_toronto"
   ]
  },
  {
   "source": [
    "![Screenshot from folium 2](./SC_toronto_map2.png)"
   ],
   "cell_type": "markdown",
   "metadata": {}
  },
  {
   "source": [
    "## **Now let's explore and cluster Toronto neighbourhoods:**"
   ],
   "cell_type": "markdown",
   "metadata": {}
  },
  {
   "source": [
    "Reusing the function given in a previus notebook. The function porpouse is process all the neighbourhoods data recovered using the Foursquare API:"
   ],
   "cell_type": "markdown",
   "metadata": {}
  },
  {
   "cell_type": "code",
   "execution_count": 131,
   "metadata": {},
   "outputs": [],
   "source": [
    "def getNearbyVenues(names, latitudes, longitudes, radius=500):\n",
    "    \n",
    "    venues_list=[]\n",
    "    for name, lat, lng in zip(names, latitudes, longitudes):\n",
    "        print(name)\n",
    "            \n",
    "        # create the API request URL\n",
    "        url = 'https://api.foursquare.com/v2/venues/explore?&client_id={}&client_secret={}&v={}&ll={},{}&radius={}&limit={}'.format(\n",
    "            CLIENT_ID, \n",
    "            CLIENT_SECRET, \n",
    "            VERSION, \n",
    "            lat, \n",
    "            lng, \n",
    "            radius, \n",
    "            LIMIT)\n",
    "            \n",
    "        # make the GET request\n",
    "        results = requests.get(url).json()[\"response\"]['groups'][0]['items']\n",
    "        \n",
    "        # return only relevant information for each nearby venue\n",
    "        venues_list.append([(\n",
    "            name, \n",
    "            lat, \n",
    "            lng, \n",
    "            v['venue']['name'], \n",
    "            v['venue']['location']['lat'], \n",
    "            v['venue']['location']['lng'],  \n",
    "            v['venue']['categories'][0]['name']) for v in results])\n",
    "\n",
    "    nearby_venues = pd.DataFrame([item for venue_list in venues_list for item in venue_list])\n",
    "    nearby_venues.columns = ['Neighborhood', \n",
    "                  'Neighborhood Latitude', \n",
    "                  'Neighborhood Longitude', \n",
    "                  'Venue', \n",
    "                  'Venue Latitude', \n",
    "                  'Venue Longitude', \n",
    "                  'Venue Category']\n",
    "    \n",
    "    return(nearby_venues)"
   ]
  },
  {
   "source": [
    "Running the function for each neighbouhood in the filtered dataframe (only boroughs whose names contains 'Toronto') and creating a new dataframe:"
   ],
   "cell_type": "markdown",
   "metadata": {}
  },
  {
   "cell_type": "code",
   "execution_count": 135,
   "metadata": {},
   "outputs": [
    {
     "output_type": "stream",
     "name": "stdout",
     "text": [
      "The Beaches\n",
      "The Danforth West, Riverdale\n",
      "India Bazaar, The Beaches West\n",
      "Studio District\n",
      "Lawrence Park\n",
      "Davisville North\n",
      "North Toronto West, Lawrence Park\n",
      "Davisville\n",
      "Moore Park, Summerhill East\n",
      "Summerhill West, Rathnelly, South Hill, Forest Hill SE, Deer Park\n",
      "Rosedale\n",
      "St. James Town, Cabbagetown\n",
      "Church and Wellesley\n",
      "Regent Park, Harbourfront\n",
      "Garden District, Ryerson\n",
      "St. James Town\n",
      "Berczy Park\n",
      "Central Bay Street\n",
      "Richmond, Adelaide, King\n",
      "Harbourfront East, Union Station, Toronto Islands\n",
      "Toronto Dominion Centre, Design Exchange\n",
      "Commerce Court, Victoria Hotel\n",
      "Roselawn\n",
      "Forest Hill North & West, Forest Hill Road Park\n",
      "The Annex, North Midtown, Yorkville\n",
      "University of Toronto, Harbord\n",
      "Kensington Market, Chinatown, Grange Park\n",
      "CN Tower, King and Spadina, Railway Lands, Harbourfront West, Bathurst Quay, South Niagara, Island airport\n",
      "Stn A PO Boxes\n",
      "First Canadian Place, Underground city\n",
      "Christie\n",
      "Dufferin, Dovercourt Village\n",
      "Little Portugal, Trinity\n",
      "Brockton, Parkdale Village, Exhibition Place\n",
      "High Park, The Junction South\n",
      "Parkdale, Roncesvalles\n",
      "Runnymede, Swansea\n",
      "Queen's Park, Ontario Provincial Government\n",
      "Business reply mail Processing Centre, South Central Letter Processing Plant Toronto\n"
     ]
    }
   ],
   "source": [
    "toronto_venues = getNearbyVenues(df_filtered['Neighbourhood'], df_filtered['Latitude'], df_filtered['Longitude'])"
   ]
  },
  {
   "source": [
    "Checking the size and first lines of the resulting dataframe:"
   ],
   "cell_type": "markdown",
   "metadata": {}
  },
  {
   "cell_type": "code",
   "execution_count": 137,
   "metadata": {},
   "outputs": [
    {
     "output_type": "stream",
     "name": "stdout",
     "text": [
      "(1624, 7)\n"
     ]
    },
    {
     "output_type": "execute_result",
     "data": {
      "text/plain": [
       "                   Neighborhood  Neighborhood Latitude  \\\n",
       "0                   The Beaches              43.676357   \n",
       "1                   The Beaches              43.676357   \n",
       "2                   The Beaches              43.676357   \n",
       "3                   The Beaches              43.676357   \n",
       "4  The Danforth West, Riverdale              43.679557   \n",
       "\n",
       "   Neighborhood Longitude                               Venue  Venue Latitude  \\\n",
       "0              -79.293031                   Glen Manor Ravine       43.676821   \n",
       "1              -79.293031  The Big Carrot Natural Food Market       43.678879   \n",
       "2              -79.293031                 Grover Pub and Grub       43.679181   \n",
       "3              -79.293031                       Upper Beaches       43.680563   \n",
       "4              -79.352188                            Pantheon       43.677621   \n",
       "\n",
       "   Venue Longitude     Venue Category  \n",
       "0       -79.293942              Trail  \n",
       "1       -79.297734  Health Food Store  \n",
       "2       -79.297215                Pub  \n",
       "3       -79.292869       Neighborhood  \n",
       "4       -79.351434   Greek Restaurant  "
      ],
      "text/html": "<div>\n<style scoped>\n    .dataframe tbody tr th:only-of-type {\n        vertical-align: middle;\n    }\n\n    .dataframe tbody tr th {\n        vertical-align: top;\n    }\n\n    .dataframe thead th {\n        text-align: right;\n    }\n</style>\n<table border=\"1\" class=\"dataframe\">\n  <thead>\n    <tr style=\"text-align: right;\">\n      <th></th>\n      <th>Neighborhood</th>\n      <th>Neighborhood Latitude</th>\n      <th>Neighborhood Longitude</th>\n      <th>Venue</th>\n      <th>Venue Latitude</th>\n      <th>Venue Longitude</th>\n      <th>Venue Category</th>\n    </tr>\n  </thead>\n  <tbody>\n    <tr>\n      <th>0</th>\n      <td>The Beaches</td>\n      <td>43.676357</td>\n      <td>-79.293031</td>\n      <td>Glen Manor Ravine</td>\n      <td>43.676821</td>\n      <td>-79.293942</td>\n      <td>Trail</td>\n    </tr>\n    <tr>\n      <th>1</th>\n      <td>The Beaches</td>\n      <td>43.676357</td>\n      <td>-79.293031</td>\n      <td>The Big Carrot Natural Food Market</td>\n      <td>43.678879</td>\n      <td>-79.297734</td>\n      <td>Health Food Store</td>\n    </tr>\n    <tr>\n      <th>2</th>\n      <td>The Beaches</td>\n      <td>43.676357</td>\n      <td>-79.293031</td>\n      <td>Grover Pub and Grub</td>\n      <td>43.679181</td>\n      <td>-79.297215</td>\n      <td>Pub</td>\n    </tr>\n    <tr>\n      <th>3</th>\n      <td>The Beaches</td>\n      <td>43.676357</td>\n      <td>-79.293031</td>\n      <td>Upper Beaches</td>\n      <td>43.680563</td>\n      <td>-79.292869</td>\n      <td>Neighborhood</td>\n    </tr>\n    <tr>\n      <th>4</th>\n      <td>The Danforth West, Riverdale</td>\n      <td>43.679557</td>\n      <td>-79.352188</td>\n      <td>Pantheon</td>\n      <td>43.677621</td>\n      <td>-79.351434</td>\n      <td>Greek Restaurant</td>\n    </tr>\n  </tbody>\n</table>\n</div>"
     },
     "metadata": {},
     "execution_count": 137
    }
   ],
   "source": [
    "print(toronto_venues.shape)\n",
    "toronto_venues.head()"
   ]
  },
  {
   "source": [
    "Let's check how many venues for each neighbourhood:"
   ],
   "cell_type": "markdown",
   "metadata": {}
  },
  {
   "cell_type": "code",
   "execution_count": 143,
   "metadata": {},
   "outputs": [
    {
     "output_type": "execute_result",
     "data": {
      "text/plain": [
       "                                                    Neighborhood Latitude  \\\n",
       "Neighborhood                                                                \n",
       "Berczy Park                                                            55   \n",
       "Brockton, Parkdale Village, Exhibition Place                           23   \n",
       "Business reply mail Processing Centre, South Ce...                     16   \n",
       "CN Tower, King and Spadina, Railway Lands, Harb...                     16   \n",
       "Central Bay Street                                                     68   \n",
       "Christie                                                               16   \n",
       "Church and Wellesley                                                   75   \n",
       "Commerce Court, Victoria Hotel                                        100   \n",
       "Davisville                                                             33   \n",
       "Davisville North                                                        9   \n",
       "Dufferin, Dovercourt Village                                           13   \n",
       "First Canadian Place, Underground city                                100   \n",
       "Forest Hill North & West, Forest Hill Road Park                         4   \n",
       "Garden District, Ryerson                                              100   \n",
       "Harbourfront East, Union Station, Toronto Islands                     100   \n",
       "High Park, The Junction South                                          25   \n",
       "India Bazaar, The Beaches West                                         19   \n",
       "Kensington Market, Chinatown, Grange Park                              74   \n",
       "Lawrence Park                                                           3   \n",
       "Little Portugal, Trinity                                               45   \n",
       "Moore Park, Summerhill East                                             2   \n",
       "North Toronto West, Lawrence Park                                      18   \n",
       "Parkdale, Roncesvalles                                                 14   \n",
       "Queen's Park, Ontario Provincial Government                            33   \n",
       "Regent Park, Harbourfront                                              44   \n",
       "Richmond, Adelaide, King                                              100   \n",
       "Rosedale                                                                4   \n",
       "Roselawn                                                                2   \n",
       "Runnymede, Swansea                                                     33   \n",
       "St. James Town                                                         85   \n",
       "St. James Town, Cabbagetown                                            48   \n",
       "Stn A PO Boxes                                                         96   \n",
       "Studio District                                                        37   \n",
       "Summerhill West, Rathnelly, South Hill, Forest ...                     14   \n",
       "The Annex, North Midtown, Yorkville                                    19   \n",
       "The Beaches                                                             4   \n",
       "The Danforth West, Riverdale                                           43   \n",
       "Toronto Dominion Centre, Design Exchange                              100   \n",
       "University of Toronto, Harbord                                         34   \n",
       "\n",
       "                                                    Neighborhood Longitude  \\\n",
       "Neighborhood                                                                 \n",
       "Berczy Park                                                             55   \n",
       "Brockton, Parkdale Village, Exhibition Place                            23   \n",
       "Business reply mail Processing Centre, South Ce...                      16   \n",
       "CN Tower, King and Spadina, Railway Lands, Harb...                      16   \n",
       "Central Bay Street                                                      68   \n",
       "Christie                                                                16   \n",
       "Church and Wellesley                                                    75   \n",
       "Commerce Court, Victoria Hotel                                         100   \n",
       "Davisville                                                              33   \n",
       "Davisville North                                                         9   \n",
       "Dufferin, Dovercourt Village                                            13   \n",
       "First Canadian Place, Underground city                                 100   \n",
       "Forest Hill North & West, Forest Hill Road Park                          4   \n",
       "Garden District, Ryerson                                               100   \n",
       "Harbourfront East, Union Station, Toronto Islands                      100   \n",
       "High Park, The Junction South                                           25   \n",
       "India Bazaar, The Beaches West                                          19   \n",
       "Kensington Market, Chinatown, Grange Park                               74   \n",
       "Lawrence Park                                                            3   \n",
       "Little Portugal, Trinity                                                45   \n",
       "Moore Park, Summerhill East                                              2   \n",
       "North Toronto West, Lawrence Park                                       18   \n",
       "Parkdale, Roncesvalles                                                  14   \n",
       "Queen's Park, Ontario Provincial Government                             33   \n",
       "Regent Park, Harbourfront                                               44   \n",
       "Richmond, Adelaide, King                                               100   \n",
       "Rosedale                                                                 4   \n",
       "Roselawn                                                                 2   \n",
       "Runnymede, Swansea                                                      33   \n",
       "St. James Town                                                          85   \n",
       "St. James Town, Cabbagetown                                             48   \n",
       "Stn A PO Boxes                                                          96   \n",
       "Studio District                                                         37   \n",
       "Summerhill West, Rathnelly, South Hill, Forest ...                      14   \n",
       "The Annex, North Midtown, Yorkville                                     19   \n",
       "The Beaches                                                              4   \n",
       "The Danforth West, Riverdale                                            43   \n",
       "Toronto Dominion Centre, Design Exchange                               100   \n",
       "University of Toronto, Harbord                                          34   \n",
       "\n",
       "                                                    Venue  Venue Latitude  \\\n",
       "Neighborhood                                                                \n",
       "Berczy Park                                            55              55   \n",
       "Brockton, Parkdale Village, Exhibition Place           23              23   \n",
       "Business reply mail Processing Centre, South Ce...     16              16   \n",
       "CN Tower, King and Spadina, Railway Lands, Harb...     16              16   \n",
       "Central Bay Street                                     68              68   \n",
       "Christie                                               16              16   \n",
       "Church and Wellesley                                   75              75   \n",
       "Commerce Court, Victoria Hotel                        100             100   \n",
       "Davisville                                             33              33   \n",
       "Davisville North                                        9               9   \n",
       "Dufferin, Dovercourt Village                           13              13   \n",
       "First Canadian Place, Underground city                100             100   \n",
       "Forest Hill North & West, Forest Hill Road Park         4               4   \n",
       "Garden District, Ryerson                              100             100   \n",
       "Harbourfront East, Union Station, Toronto Islands     100             100   \n",
       "High Park, The Junction South                          25              25   \n",
       "India Bazaar, The Beaches West                         19              19   \n",
       "Kensington Market, Chinatown, Grange Park              74              74   \n",
       "Lawrence Park                                           3               3   \n",
       "Little Portugal, Trinity                               45              45   \n",
       "Moore Park, Summerhill East                             2               2   \n",
       "North Toronto West, Lawrence Park                      18              18   \n",
       "Parkdale, Roncesvalles                                 14              14   \n",
       "Queen's Park, Ontario Provincial Government            33              33   \n",
       "Regent Park, Harbourfront                              44              44   \n",
       "Richmond, Adelaide, King                              100             100   \n",
       "Rosedale                                                4               4   \n",
       "Roselawn                                                2               2   \n",
       "Runnymede, Swansea                                     33              33   \n",
       "St. James Town                                         85              85   \n",
       "St. James Town, Cabbagetown                            48              48   \n",
       "Stn A PO Boxes                                         96              96   \n",
       "Studio District                                        37              37   \n",
       "Summerhill West, Rathnelly, South Hill, Forest ...     14              14   \n",
       "The Annex, North Midtown, Yorkville                    19              19   \n",
       "The Beaches                                             4               4   \n",
       "The Danforth West, Riverdale                           43              43   \n",
       "Toronto Dominion Centre, Design Exchange              100             100   \n",
       "University of Toronto, Harbord                         34              34   \n",
       "\n",
       "                                                    Venue Longitude  \\\n",
       "Neighborhood                                                          \n",
       "Berczy Park                                                      55   \n",
       "Brockton, Parkdale Village, Exhibition Place                     23   \n",
       "Business reply mail Processing Centre, South Ce...               16   \n",
       "CN Tower, King and Spadina, Railway Lands, Harb...               16   \n",
       "Central Bay Street                                               68   \n",
       "Christie                                                         16   \n",
       "Church and Wellesley                                             75   \n",
       "Commerce Court, Victoria Hotel                                  100   \n",
       "Davisville                                                       33   \n",
       "Davisville North                                                  9   \n",
       "Dufferin, Dovercourt Village                                     13   \n",
       "First Canadian Place, Underground city                          100   \n",
       "Forest Hill North & West, Forest Hill Road Park                   4   \n",
       "Garden District, Ryerson                                        100   \n",
       "Harbourfront East, Union Station, Toronto Islands               100   \n",
       "High Park, The Junction South                                    25   \n",
       "India Bazaar, The Beaches West                                   19   \n",
       "Kensington Market, Chinatown, Grange Park                        74   \n",
       "Lawrence Park                                                     3   \n",
       "Little Portugal, Trinity                                         45   \n",
       "Moore Park, Summerhill East                                       2   \n",
       "North Toronto West, Lawrence Park                                18   \n",
       "Parkdale, Roncesvalles                                           14   \n",
       "Queen's Park, Ontario Provincial Government                      33   \n",
       "Regent Park, Harbourfront                                        44   \n",
       "Richmond, Adelaide, King                                        100   \n",
       "Rosedale                                                          4   \n",
       "Roselawn                                                          2   \n",
       "Runnymede, Swansea                                               33   \n",
       "St. James Town                                                   85   \n",
       "St. James Town, Cabbagetown                                      48   \n",
       "Stn A PO Boxes                                                   96   \n",
       "Studio District                                                  37   \n",
       "Summerhill West, Rathnelly, South Hill, Forest ...               14   \n",
       "The Annex, North Midtown, Yorkville                              19   \n",
       "The Beaches                                                       4   \n",
       "The Danforth West, Riverdale                                     43   \n",
       "Toronto Dominion Centre, Design Exchange                        100   \n",
       "University of Toronto, Harbord                                   34   \n",
       "\n",
       "                                                    Venue Category  \n",
       "Neighborhood                                                        \n",
       "Berczy Park                                                     55  \n",
       "Brockton, Parkdale Village, Exhibition Place                    23  \n",
       "Business reply mail Processing Centre, South Ce...              16  \n",
       "CN Tower, King and Spadina, Railway Lands, Harb...              16  \n",
       "Central Bay Street                                              68  \n",
       "Christie                                                        16  \n",
       "Church and Wellesley                                            75  \n",
       "Commerce Court, Victoria Hotel                                 100  \n",
       "Davisville                                                      33  \n",
       "Davisville North                                                 9  \n",
       "Dufferin, Dovercourt Village                                    13  \n",
       "First Canadian Place, Underground city                         100  \n",
       "Forest Hill North & West, Forest Hill Road Park                  4  \n",
       "Garden District, Ryerson                                       100  \n",
       "Harbourfront East, Union Station, Toronto Islands              100  \n",
       "High Park, The Junction South                                   25  \n",
       "India Bazaar, The Beaches West                                  19  \n",
       "Kensington Market, Chinatown, Grange Park                       74  \n",
       "Lawrence Park                                                    3  \n",
       "Little Portugal, Trinity                                        45  \n",
       "Moore Park, Summerhill East                                      2  \n",
       "North Toronto West, Lawrence Park                               18  \n",
       "Parkdale, Roncesvalles                                          14  \n",
       "Queen's Park, Ontario Provincial Government                     33  \n",
       "Regent Park, Harbourfront                                       44  \n",
       "Richmond, Adelaide, King                                       100  \n",
       "Rosedale                                                         4  \n",
       "Roselawn                                                         2  \n",
       "Runnymede, Swansea                                              33  \n",
       "St. James Town                                                  85  \n",
       "St. James Town, Cabbagetown                                     48  \n",
       "Stn A PO Boxes                                                  96  \n",
       "Studio District                                                 37  \n",
       "Summerhill West, Rathnelly, South Hill, Forest ...              14  \n",
       "The Annex, North Midtown, Yorkville                             19  \n",
       "The Beaches                                                      4  \n",
       "The Danforth West, Riverdale                                    43  \n",
       "Toronto Dominion Centre, Design Exchange                       100  \n",
       "University of Toronto, Harbord                                  34  "
      ],
      "text/html": "<div>\n<style scoped>\n    .dataframe tbody tr th:only-of-type {\n        vertical-align: middle;\n    }\n\n    .dataframe tbody tr th {\n        vertical-align: top;\n    }\n\n    .dataframe thead th {\n        text-align: right;\n    }\n</style>\n<table border=\"1\" class=\"dataframe\">\n  <thead>\n    <tr style=\"text-align: right;\">\n      <th></th>\n      <th>Neighborhood Latitude</th>\n      <th>Neighborhood Longitude</th>\n      <th>Venue</th>\n      <th>Venue Latitude</th>\n      <th>Venue Longitude</th>\n      <th>Venue Category</th>\n    </tr>\n    <tr>\n      <th>Neighborhood</th>\n      <th></th>\n      <th></th>\n      <th></th>\n      <th></th>\n      <th></th>\n      <th></th>\n    </tr>\n  </thead>\n  <tbody>\n    <tr>\n      <th>Berczy Park</th>\n      <td>55</td>\n      <td>55</td>\n      <td>55</td>\n      <td>55</td>\n      <td>55</td>\n      <td>55</td>\n    </tr>\n    <tr>\n      <th>Brockton, Parkdale Village, Exhibition Place</th>\n      <td>23</td>\n      <td>23</td>\n      <td>23</td>\n      <td>23</td>\n      <td>23</td>\n      <td>23</td>\n    </tr>\n    <tr>\n      <th>Business reply mail Processing Centre, South Central Letter Processing Plant Toronto</th>\n      <td>16</td>\n      <td>16</td>\n      <td>16</td>\n      <td>16</td>\n      <td>16</td>\n      <td>16</td>\n    </tr>\n    <tr>\n      <th>CN Tower, King and Spadina, Railway Lands, Harbourfront West, Bathurst Quay, South Niagara, Island airport</th>\n      <td>16</td>\n      <td>16</td>\n      <td>16</td>\n      <td>16</td>\n      <td>16</td>\n      <td>16</td>\n    </tr>\n    <tr>\n      <th>Central Bay Street</th>\n      <td>68</td>\n      <td>68</td>\n      <td>68</td>\n      <td>68</td>\n      <td>68</td>\n      <td>68</td>\n    </tr>\n    <tr>\n      <th>Christie</th>\n      <td>16</td>\n      <td>16</td>\n      <td>16</td>\n      <td>16</td>\n      <td>16</td>\n      <td>16</td>\n    </tr>\n    <tr>\n      <th>Church and Wellesley</th>\n      <td>75</td>\n      <td>75</td>\n      <td>75</td>\n      <td>75</td>\n      <td>75</td>\n      <td>75</td>\n    </tr>\n    <tr>\n      <th>Commerce Court, Victoria Hotel</th>\n      <td>100</td>\n      <td>100</td>\n      <td>100</td>\n      <td>100</td>\n      <td>100</td>\n      <td>100</td>\n    </tr>\n    <tr>\n      <th>Davisville</th>\n      <td>33</td>\n      <td>33</td>\n      <td>33</td>\n      <td>33</td>\n      <td>33</td>\n      <td>33</td>\n    </tr>\n    <tr>\n      <th>Davisville North</th>\n      <td>9</td>\n      <td>9</td>\n      <td>9</td>\n      <td>9</td>\n      <td>9</td>\n      <td>9</td>\n    </tr>\n    <tr>\n      <th>Dufferin, Dovercourt Village</th>\n      <td>13</td>\n      <td>13</td>\n      <td>13</td>\n      <td>13</td>\n      <td>13</td>\n      <td>13</td>\n    </tr>\n    <tr>\n      <th>First Canadian Place, Underground city</th>\n      <td>100</td>\n      <td>100</td>\n      <td>100</td>\n      <td>100</td>\n      <td>100</td>\n      <td>100</td>\n    </tr>\n    <tr>\n      <th>Forest Hill North &amp; West, Forest Hill Road Park</th>\n      <td>4</td>\n      <td>4</td>\n      <td>4</td>\n      <td>4</td>\n      <td>4</td>\n      <td>4</td>\n    </tr>\n    <tr>\n      <th>Garden District, Ryerson</th>\n      <td>100</td>\n      <td>100</td>\n      <td>100</td>\n      <td>100</td>\n      <td>100</td>\n      <td>100</td>\n    </tr>\n    <tr>\n      <th>Harbourfront East, Union Station, Toronto Islands</th>\n      <td>100</td>\n      <td>100</td>\n      <td>100</td>\n      <td>100</td>\n      <td>100</td>\n      <td>100</td>\n    </tr>\n    <tr>\n      <th>High Park, The Junction South</th>\n      <td>25</td>\n      <td>25</td>\n      <td>25</td>\n      <td>25</td>\n      <td>25</td>\n      <td>25</td>\n    </tr>\n    <tr>\n      <th>India Bazaar, The Beaches West</th>\n      <td>19</td>\n      <td>19</td>\n      <td>19</td>\n      <td>19</td>\n      <td>19</td>\n      <td>19</td>\n    </tr>\n    <tr>\n      <th>Kensington Market, Chinatown, Grange Park</th>\n      <td>74</td>\n      <td>74</td>\n      <td>74</td>\n      <td>74</td>\n      <td>74</td>\n      <td>74</td>\n    </tr>\n    <tr>\n      <th>Lawrence Park</th>\n      <td>3</td>\n      <td>3</td>\n      <td>3</td>\n      <td>3</td>\n      <td>3</td>\n      <td>3</td>\n    </tr>\n    <tr>\n      <th>Little Portugal, Trinity</th>\n      <td>45</td>\n      <td>45</td>\n      <td>45</td>\n      <td>45</td>\n      <td>45</td>\n      <td>45</td>\n    </tr>\n    <tr>\n      <th>Moore Park, Summerhill East</th>\n      <td>2</td>\n      <td>2</td>\n      <td>2</td>\n      <td>2</td>\n      <td>2</td>\n      <td>2</td>\n    </tr>\n    <tr>\n      <th>North Toronto West, Lawrence Park</th>\n      <td>18</td>\n      <td>18</td>\n      <td>18</td>\n      <td>18</td>\n      <td>18</td>\n      <td>18</td>\n    </tr>\n    <tr>\n      <th>Parkdale, Roncesvalles</th>\n      <td>14</td>\n      <td>14</td>\n      <td>14</td>\n      <td>14</td>\n      <td>14</td>\n      <td>14</td>\n    </tr>\n    <tr>\n      <th>Queen's Park, Ontario Provincial Government</th>\n      <td>33</td>\n      <td>33</td>\n      <td>33</td>\n      <td>33</td>\n      <td>33</td>\n      <td>33</td>\n    </tr>\n    <tr>\n      <th>Regent Park, Harbourfront</th>\n      <td>44</td>\n      <td>44</td>\n      <td>44</td>\n      <td>44</td>\n      <td>44</td>\n      <td>44</td>\n    </tr>\n    <tr>\n      <th>Richmond, Adelaide, King</th>\n      <td>100</td>\n      <td>100</td>\n      <td>100</td>\n      <td>100</td>\n      <td>100</td>\n      <td>100</td>\n    </tr>\n    <tr>\n      <th>Rosedale</th>\n      <td>4</td>\n      <td>4</td>\n      <td>4</td>\n      <td>4</td>\n      <td>4</td>\n      <td>4</td>\n    </tr>\n    <tr>\n      <th>Roselawn</th>\n      <td>2</td>\n      <td>2</td>\n      <td>2</td>\n      <td>2</td>\n      <td>2</td>\n      <td>2</td>\n    </tr>\n    <tr>\n      <th>Runnymede, Swansea</th>\n      <td>33</td>\n      <td>33</td>\n      <td>33</td>\n      <td>33</td>\n      <td>33</td>\n      <td>33</td>\n    </tr>\n    <tr>\n      <th>St. James Town</th>\n      <td>85</td>\n      <td>85</td>\n      <td>85</td>\n      <td>85</td>\n      <td>85</td>\n      <td>85</td>\n    </tr>\n    <tr>\n      <th>St. James Town, Cabbagetown</th>\n      <td>48</td>\n      <td>48</td>\n      <td>48</td>\n      <td>48</td>\n      <td>48</td>\n      <td>48</td>\n    </tr>\n    <tr>\n      <th>Stn A PO Boxes</th>\n      <td>96</td>\n      <td>96</td>\n      <td>96</td>\n      <td>96</td>\n      <td>96</td>\n      <td>96</td>\n    </tr>\n    <tr>\n      <th>Studio District</th>\n      <td>37</td>\n      <td>37</td>\n      <td>37</td>\n      <td>37</td>\n      <td>37</td>\n      <td>37</td>\n    </tr>\n    <tr>\n      <th>Summerhill West, Rathnelly, South Hill, Forest Hill SE, Deer Park</th>\n      <td>14</td>\n      <td>14</td>\n      <td>14</td>\n      <td>14</td>\n      <td>14</td>\n      <td>14</td>\n    </tr>\n    <tr>\n      <th>The Annex, North Midtown, Yorkville</th>\n      <td>19</td>\n      <td>19</td>\n      <td>19</td>\n      <td>19</td>\n      <td>19</td>\n      <td>19</td>\n    </tr>\n    <tr>\n      <th>The Beaches</th>\n      <td>4</td>\n      <td>4</td>\n      <td>4</td>\n      <td>4</td>\n      <td>4</td>\n      <td>4</td>\n    </tr>\n    <tr>\n      <th>The Danforth West, Riverdale</th>\n      <td>43</td>\n      <td>43</td>\n      <td>43</td>\n      <td>43</td>\n      <td>43</td>\n      <td>43</td>\n    </tr>\n    <tr>\n      <th>Toronto Dominion Centre, Design Exchange</th>\n      <td>100</td>\n      <td>100</td>\n      <td>100</td>\n      <td>100</td>\n      <td>100</td>\n      <td>100</td>\n    </tr>\n    <tr>\n      <th>University of Toronto, Harbord</th>\n      <td>34</td>\n      <td>34</td>\n      <td>34</td>\n      <td>34</td>\n      <td>34</td>\n      <td>34</td>\n    </tr>\n  </tbody>\n</table>\n</div>"
     },
     "metadata": {},
     "execution_count": 143
    }
   ],
   "source": [
    "toronto_venues.groupby(by='Neighborhood').count()"
   ]
  },
  {
   "source": [
    "How many unique categories in the dataframe?"
   ],
   "cell_type": "markdown",
   "metadata": {}
  },
  {
   "cell_type": "code",
   "execution_count": 145,
   "metadata": {},
   "outputs": [
    {
     "output_type": "stream",
     "name": "stdout",
     "text": [
      "There are 237 uniques categories.\n"
     ]
    }
   ],
   "source": [
    "print('There are {} uniques categories.'.format(len(toronto_venues['Venue Category'].unique())))"
   ]
  },
  {
   "source": [
    "### Analyzing each Neighbourhood"
   ],
   "cell_type": "markdown",
   "metadata": {}
  },
  {
   "cell_type": "code",
   "execution_count": 187,
   "metadata": {},
   "outputs": [
    {
     "output_type": "execute_result",
     "data": {
      "text/plain": [
       "                   Neighborhood  Afghan Restaurant  Airport  \\\n",
       "0                   The Beaches                  0        0   \n",
       "1                   The Beaches                  0        0   \n",
       "2                   The Beaches                  0        0   \n",
       "3                   The Beaches                  0        0   \n",
       "4  The Danforth West, Riverdale                  0        0   \n",
       "\n",
       "   Airport Food Court  Airport Gate  Airport Lounge  Airport Service  \\\n",
       "0                   0             0               0                0   \n",
       "1                   0             0               0                0   \n",
       "2                   0             0               0                0   \n",
       "3                   0             0               0                0   \n",
       "4                   0             0               0                0   \n",
       "\n",
       "   Airport Terminal  American Restaurant  Antique Shop  ...  Theme Restaurant  \\\n",
       "0                 0                    0             0  ...                 0   \n",
       "1                 0                    0             0  ...                 0   \n",
       "2                 0                    0             0  ...                 0   \n",
       "3                 0                    0             0  ...                 0   \n",
       "4                 0                    0             0  ...                 0   \n",
       "\n",
       "   Toy / Game Store  Trail  Train Station  Vegetarian / Vegan Restaurant  \\\n",
       "0                 0      1              0                              0   \n",
       "1                 0      0              0                              0   \n",
       "2                 0      0              0                              0   \n",
       "3                 0      0              0                              0   \n",
       "4                 0      0              0                              0   \n",
       "\n",
       "   Video Game Store  Vietnamese Restaurant  Wine Bar  Women's Store  \\\n",
       "0                 0                      0         0              0   \n",
       "1                 0                      0         0              0   \n",
       "2                 0                      0         0              0   \n",
       "3                 0                      0         0              0   \n",
       "4                 0                      0         0              0   \n",
       "\n",
       "   Yoga Studio  \n",
       "0            0  \n",
       "1            0  \n",
       "2            0  \n",
       "3            0  \n",
       "4            0  \n",
       "\n",
       "[5 rows x 237 columns]"
      ],
      "text/html": "<div>\n<style scoped>\n    .dataframe tbody tr th:only-of-type {\n        vertical-align: middle;\n    }\n\n    .dataframe tbody tr th {\n        vertical-align: top;\n    }\n\n    .dataframe thead th {\n        text-align: right;\n    }\n</style>\n<table border=\"1\" class=\"dataframe\">\n  <thead>\n    <tr style=\"text-align: right;\">\n      <th></th>\n      <th>Neighborhood</th>\n      <th>Afghan Restaurant</th>\n      <th>Airport</th>\n      <th>Airport Food Court</th>\n      <th>Airport Gate</th>\n      <th>Airport Lounge</th>\n      <th>Airport Service</th>\n      <th>Airport Terminal</th>\n      <th>American Restaurant</th>\n      <th>Antique Shop</th>\n      <th>...</th>\n      <th>Theme Restaurant</th>\n      <th>Toy / Game Store</th>\n      <th>Trail</th>\n      <th>Train Station</th>\n      <th>Vegetarian / Vegan Restaurant</th>\n      <th>Video Game Store</th>\n      <th>Vietnamese Restaurant</th>\n      <th>Wine Bar</th>\n      <th>Women's Store</th>\n      <th>Yoga Studio</th>\n    </tr>\n  </thead>\n  <tbody>\n    <tr>\n      <th>0</th>\n      <td>The Beaches</td>\n      <td>0</td>\n      <td>0</td>\n      <td>0</td>\n      <td>0</td>\n      <td>0</td>\n      <td>0</td>\n      <td>0</td>\n      <td>0</td>\n      <td>0</td>\n      <td>...</td>\n      <td>0</td>\n      <td>0</td>\n      <td>1</td>\n      <td>0</td>\n      <td>0</td>\n      <td>0</td>\n      <td>0</td>\n      <td>0</td>\n      <td>0</td>\n      <td>0</td>\n    </tr>\n    <tr>\n      <th>1</th>\n      <td>The Beaches</td>\n      <td>0</td>\n      <td>0</td>\n      <td>0</td>\n      <td>0</td>\n      <td>0</td>\n      <td>0</td>\n      <td>0</td>\n      <td>0</td>\n      <td>0</td>\n      <td>...</td>\n      <td>0</td>\n      <td>0</td>\n      <td>0</td>\n      <td>0</td>\n      <td>0</td>\n      <td>0</td>\n      <td>0</td>\n      <td>0</td>\n      <td>0</td>\n      <td>0</td>\n    </tr>\n    <tr>\n      <th>2</th>\n      <td>The Beaches</td>\n      <td>0</td>\n      <td>0</td>\n      <td>0</td>\n      <td>0</td>\n      <td>0</td>\n      <td>0</td>\n      <td>0</td>\n      <td>0</td>\n      <td>0</td>\n      <td>...</td>\n      <td>0</td>\n      <td>0</td>\n      <td>0</td>\n      <td>0</td>\n      <td>0</td>\n      <td>0</td>\n      <td>0</td>\n      <td>0</td>\n      <td>0</td>\n      <td>0</td>\n    </tr>\n    <tr>\n      <th>3</th>\n      <td>The Beaches</td>\n      <td>0</td>\n      <td>0</td>\n      <td>0</td>\n      <td>0</td>\n      <td>0</td>\n      <td>0</td>\n      <td>0</td>\n      <td>0</td>\n      <td>0</td>\n      <td>...</td>\n      <td>0</td>\n      <td>0</td>\n      <td>0</td>\n      <td>0</td>\n      <td>0</td>\n      <td>0</td>\n      <td>0</td>\n      <td>0</td>\n      <td>0</td>\n      <td>0</td>\n    </tr>\n    <tr>\n      <th>4</th>\n      <td>The Danforth West, Riverdale</td>\n      <td>0</td>\n      <td>0</td>\n      <td>0</td>\n      <td>0</td>\n      <td>0</td>\n      <td>0</td>\n      <td>0</td>\n      <td>0</td>\n      <td>0</td>\n      <td>...</td>\n      <td>0</td>\n      <td>0</td>\n      <td>0</td>\n      <td>0</td>\n      <td>0</td>\n      <td>0</td>\n      <td>0</td>\n      <td>0</td>\n      <td>0</td>\n      <td>0</td>\n    </tr>\n  </tbody>\n</table>\n<p>5 rows × 237 columns</p>\n</div>"
     },
     "metadata": {},
     "execution_count": 187
    }
   ],
   "source": [
    "# Applying one hot encoding\n",
    "toronto_onehot = pd.get_dummies(toronto_venues[['Venue Category']], prefix='', prefix_sep='')\n",
    "\n",
    "# add neighbourdhood back to dataframe\n",
    "toronto_onehot['Neighborhood'] = toronto_venues['Neighborhood']\n",
    "\n",
    "# move neighborhood column to first column\n",
    "#fixed_columns = list(toronto_onehot.columns)\n",
    "#toronto_onehot = toronto_onehot[fixed_columns]\n",
    "fixed_columns = ['Neighborhood'] +[col for col in toronto_onehot.columns if col != 'Neighborhood' ]\n",
    "toronto_onehot = toronto_onehot[fixed_columns]\n",
    "\n",
    "toronto_onehot.head()"
   ]
  },
  {
   "source": [
    "Checking the new dataframe size:"
   ],
   "cell_type": "markdown",
   "metadata": {}
  },
  {
   "cell_type": "code",
   "execution_count": 188,
   "metadata": {},
   "outputs": [
    {
     "output_type": "execute_result",
     "data": {
      "text/plain": [
       "(1624, 237)"
      ]
     },
     "metadata": {},
     "execution_count": 188
    }
   ],
   "source": [
    "toronto_onehot.shape"
   ]
  },
  {
   "source": [
    "Next, let's group rows by neighborhood and by taking the mean of the frequency of occurrence of each category:"
   ],
   "cell_type": "markdown",
   "metadata": {}
  },
  {
   "cell_type": "code",
   "execution_count": 189,
   "metadata": {},
   "outputs": [
    {
     "output_type": "execute_result",
     "data": {
      "text/plain": [
       "                                        Neighborhood  Afghan Restaurant  \\\n",
       "0                                        Berczy Park           0.000000   \n",
       "1       Brockton, Parkdale Village, Exhibition Place           0.000000   \n",
       "2  Business reply mail Processing Centre, South C...           0.000000   \n",
       "3  CN Tower, King and Spadina, Railway Lands, Har...           0.000000   \n",
       "4                                 Central Bay Street           0.000000   \n",
       "5                                           Christie           0.000000   \n",
       "6                               Church and Wellesley           0.013333   \n",
       "7                     Commerce Court, Victoria Hotel           0.000000   \n",
       "8                                         Davisville           0.000000   \n",
       "9                                   Davisville North           0.000000   \n",
       "\n",
       "   Airport  Airport Food Court  Airport Gate  Airport Lounge  Airport Service  \\\n",
       "0   0.0000              0.0000        0.0000           0.000            0.000   \n",
       "1   0.0000              0.0000        0.0000           0.000            0.000   \n",
       "2   0.0000              0.0000        0.0000           0.000            0.000   \n",
       "3   0.0625              0.0625        0.0625           0.125            0.125   \n",
       "4   0.0000              0.0000        0.0000           0.000            0.000   \n",
       "5   0.0000              0.0000        0.0000           0.000            0.000   \n",
       "6   0.0000              0.0000        0.0000           0.000            0.000   \n",
       "7   0.0000              0.0000        0.0000           0.000            0.000   \n",
       "8   0.0000              0.0000        0.0000           0.000            0.000   \n",
       "9   0.0000              0.0000        0.0000           0.000            0.000   \n",
       "\n",
       "   Airport Terminal  American Restaurant  Antique Shop  ...  Theme Restaurant  \\\n",
       "0            0.0000             0.000000           0.0  ...          0.000000   \n",
       "1            0.0000             0.000000           0.0  ...          0.000000   \n",
       "2            0.0000             0.000000           0.0  ...          0.000000   \n",
       "3            0.0625             0.000000           0.0  ...          0.000000   \n",
       "4            0.0000             0.000000           0.0  ...          0.000000   \n",
       "5            0.0000             0.000000           0.0  ...          0.000000   \n",
       "6            0.0000             0.013333           0.0  ...          0.013333   \n",
       "7            0.0000             0.030000           0.0  ...          0.000000   \n",
       "8            0.0000             0.000000           0.0  ...          0.000000   \n",
       "9            0.0000             0.000000           0.0  ...          0.000000   \n",
       "\n",
       "   Toy / Game Store  Trail  Train Station  Vegetarian / Vegan Restaurant  \\\n",
       "0          0.000000    0.0            0.0                       0.018182   \n",
       "1          0.000000    0.0            0.0                       0.000000   \n",
       "2          0.000000    0.0            0.0                       0.000000   \n",
       "3          0.000000    0.0            0.0                       0.000000   \n",
       "4          0.000000    0.0            0.0                       0.014706   \n",
       "5          0.000000    0.0            0.0                       0.000000   \n",
       "6          0.000000    0.0            0.0                       0.000000   \n",
       "7          0.000000    0.0            0.0                       0.020000   \n",
       "8          0.030303    0.0            0.0                       0.000000   \n",
       "9          0.000000    0.0            0.0                       0.000000   \n",
       "\n",
       "   Video Game Store  Vietnamese Restaurant  Wine Bar  Women's Store  \\\n",
       "0               0.0               0.000000  0.000000            0.0   \n",
       "1               0.0               0.000000  0.000000            0.0   \n",
       "2               0.0               0.000000  0.000000            0.0   \n",
       "3               0.0               0.000000  0.000000            0.0   \n",
       "4               0.0               0.000000  0.014706            0.0   \n",
       "5               0.0               0.000000  0.000000            0.0   \n",
       "6               0.0               0.013333  0.000000            0.0   \n",
       "7               0.0               0.000000  0.010000            0.0   \n",
       "8               0.0               0.000000  0.000000            0.0   \n",
       "9               0.0               0.000000  0.000000            0.0   \n",
       "\n",
       "   Yoga Studio  \n",
       "0     0.000000  \n",
       "1     0.000000  \n",
       "2     0.000000  \n",
       "3     0.000000  \n",
       "4     0.014706  \n",
       "5     0.000000  \n",
       "6     0.026667  \n",
       "7     0.000000  \n",
       "8     0.000000  \n",
       "9     0.000000  \n",
       "\n",
       "[10 rows x 237 columns]"
      ],
      "text/html": "<div>\n<style scoped>\n    .dataframe tbody tr th:only-of-type {\n        vertical-align: middle;\n    }\n\n    .dataframe tbody tr th {\n        vertical-align: top;\n    }\n\n    .dataframe thead th {\n        text-align: right;\n    }\n</style>\n<table border=\"1\" class=\"dataframe\">\n  <thead>\n    <tr style=\"text-align: right;\">\n      <th></th>\n      <th>Neighborhood</th>\n      <th>Afghan Restaurant</th>\n      <th>Airport</th>\n      <th>Airport Food Court</th>\n      <th>Airport Gate</th>\n      <th>Airport Lounge</th>\n      <th>Airport Service</th>\n      <th>Airport Terminal</th>\n      <th>American Restaurant</th>\n      <th>Antique Shop</th>\n      <th>...</th>\n      <th>Theme Restaurant</th>\n      <th>Toy / Game Store</th>\n      <th>Trail</th>\n      <th>Train Station</th>\n      <th>Vegetarian / Vegan Restaurant</th>\n      <th>Video Game Store</th>\n      <th>Vietnamese Restaurant</th>\n      <th>Wine Bar</th>\n      <th>Women's Store</th>\n      <th>Yoga Studio</th>\n    </tr>\n  </thead>\n  <tbody>\n    <tr>\n      <th>0</th>\n      <td>Berczy Park</td>\n      <td>0.000000</td>\n      <td>0.0000</td>\n      <td>0.0000</td>\n      <td>0.0000</td>\n      <td>0.000</td>\n      <td>0.000</td>\n      <td>0.0000</td>\n      <td>0.000000</td>\n      <td>0.0</td>\n      <td>...</td>\n      <td>0.000000</td>\n      <td>0.000000</td>\n      <td>0.0</td>\n      <td>0.0</td>\n      <td>0.018182</td>\n      <td>0.0</td>\n      <td>0.000000</td>\n      <td>0.000000</td>\n      <td>0.0</td>\n      <td>0.000000</td>\n    </tr>\n    <tr>\n      <th>1</th>\n      <td>Brockton, Parkdale Village, Exhibition Place</td>\n      <td>0.000000</td>\n      <td>0.0000</td>\n      <td>0.0000</td>\n      <td>0.0000</td>\n      <td>0.000</td>\n      <td>0.000</td>\n      <td>0.0000</td>\n      <td>0.000000</td>\n      <td>0.0</td>\n      <td>...</td>\n      <td>0.000000</td>\n      <td>0.000000</td>\n      <td>0.0</td>\n      <td>0.0</td>\n      <td>0.000000</td>\n      <td>0.0</td>\n      <td>0.000000</td>\n      <td>0.000000</td>\n      <td>0.0</td>\n      <td>0.000000</td>\n    </tr>\n    <tr>\n      <th>2</th>\n      <td>Business reply mail Processing Centre, South C...</td>\n      <td>0.000000</td>\n      <td>0.0000</td>\n      <td>0.0000</td>\n      <td>0.0000</td>\n      <td>0.000</td>\n      <td>0.000</td>\n      <td>0.0000</td>\n      <td>0.000000</td>\n      <td>0.0</td>\n      <td>...</td>\n      <td>0.000000</td>\n      <td>0.000000</td>\n      <td>0.0</td>\n      <td>0.0</td>\n      <td>0.000000</td>\n      <td>0.0</td>\n      <td>0.000000</td>\n      <td>0.000000</td>\n      <td>0.0</td>\n      <td>0.000000</td>\n    </tr>\n    <tr>\n      <th>3</th>\n      <td>CN Tower, King and Spadina, Railway Lands, Har...</td>\n      <td>0.000000</td>\n      <td>0.0625</td>\n      <td>0.0625</td>\n      <td>0.0625</td>\n      <td>0.125</td>\n      <td>0.125</td>\n      <td>0.0625</td>\n      <td>0.000000</td>\n      <td>0.0</td>\n      <td>...</td>\n      <td>0.000000</td>\n      <td>0.000000</td>\n      <td>0.0</td>\n      <td>0.0</td>\n      <td>0.000000</td>\n      <td>0.0</td>\n      <td>0.000000</td>\n      <td>0.000000</td>\n      <td>0.0</td>\n      <td>0.000000</td>\n    </tr>\n    <tr>\n      <th>4</th>\n      <td>Central Bay Street</td>\n      <td>0.000000</td>\n      <td>0.0000</td>\n      <td>0.0000</td>\n      <td>0.0000</td>\n      <td>0.000</td>\n      <td>0.000</td>\n      <td>0.0000</td>\n      <td>0.000000</td>\n      <td>0.0</td>\n      <td>...</td>\n      <td>0.000000</td>\n      <td>0.000000</td>\n      <td>0.0</td>\n      <td>0.0</td>\n      <td>0.014706</td>\n      <td>0.0</td>\n      <td>0.000000</td>\n      <td>0.014706</td>\n      <td>0.0</td>\n      <td>0.014706</td>\n    </tr>\n    <tr>\n      <th>5</th>\n      <td>Christie</td>\n      <td>0.000000</td>\n      <td>0.0000</td>\n      <td>0.0000</td>\n      <td>0.0000</td>\n      <td>0.000</td>\n      <td>0.000</td>\n      <td>0.0000</td>\n      <td>0.000000</td>\n      <td>0.0</td>\n      <td>...</td>\n      <td>0.000000</td>\n      <td>0.000000</td>\n      <td>0.0</td>\n      <td>0.0</td>\n      <td>0.000000</td>\n      <td>0.0</td>\n      <td>0.000000</td>\n      <td>0.000000</td>\n      <td>0.0</td>\n      <td>0.000000</td>\n    </tr>\n    <tr>\n      <th>6</th>\n      <td>Church and Wellesley</td>\n      <td>0.013333</td>\n      <td>0.0000</td>\n      <td>0.0000</td>\n      <td>0.0000</td>\n      <td>0.000</td>\n      <td>0.000</td>\n      <td>0.0000</td>\n      <td>0.013333</td>\n      <td>0.0</td>\n      <td>...</td>\n      <td>0.013333</td>\n      <td>0.000000</td>\n      <td>0.0</td>\n      <td>0.0</td>\n      <td>0.000000</td>\n      <td>0.0</td>\n      <td>0.013333</td>\n      <td>0.000000</td>\n      <td>0.0</td>\n      <td>0.026667</td>\n    </tr>\n    <tr>\n      <th>7</th>\n      <td>Commerce Court, Victoria Hotel</td>\n      <td>0.000000</td>\n      <td>0.0000</td>\n      <td>0.0000</td>\n      <td>0.0000</td>\n      <td>0.000</td>\n      <td>0.000</td>\n      <td>0.0000</td>\n      <td>0.030000</td>\n      <td>0.0</td>\n      <td>...</td>\n      <td>0.000000</td>\n      <td>0.000000</td>\n      <td>0.0</td>\n      <td>0.0</td>\n      <td>0.020000</td>\n      <td>0.0</td>\n      <td>0.000000</td>\n      <td>0.010000</td>\n      <td>0.0</td>\n      <td>0.000000</td>\n    </tr>\n    <tr>\n      <th>8</th>\n      <td>Davisville</td>\n      <td>0.000000</td>\n      <td>0.0000</td>\n      <td>0.0000</td>\n      <td>0.0000</td>\n      <td>0.000</td>\n      <td>0.000</td>\n      <td>0.0000</td>\n      <td>0.000000</td>\n      <td>0.0</td>\n      <td>...</td>\n      <td>0.000000</td>\n      <td>0.030303</td>\n      <td>0.0</td>\n      <td>0.0</td>\n      <td>0.000000</td>\n      <td>0.0</td>\n      <td>0.000000</td>\n      <td>0.000000</td>\n      <td>0.0</td>\n      <td>0.000000</td>\n    </tr>\n    <tr>\n      <th>9</th>\n      <td>Davisville North</td>\n      <td>0.000000</td>\n      <td>0.0000</td>\n      <td>0.0000</td>\n      <td>0.0000</td>\n      <td>0.000</td>\n      <td>0.000</td>\n      <td>0.0000</td>\n      <td>0.000000</td>\n      <td>0.0</td>\n      <td>...</td>\n      <td>0.000000</td>\n      <td>0.000000</td>\n      <td>0.0</td>\n      <td>0.0</td>\n      <td>0.000000</td>\n      <td>0.0</td>\n      <td>0.000000</td>\n      <td>0.000000</td>\n      <td>0.0</td>\n      <td>0.000000</td>\n    </tr>\n  </tbody>\n</table>\n<p>10 rows × 237 columns</p>\n</div>"
     },
     "metadata": {},
     "execution_count": 189
    }
   ],
   "source": [
    "toronto_grouped = toronto_onehot.groupby('Neighborhood').mean().reset_index()\n",
    "toronto_grouped.head(10)"
   ]
  },
  {
   "source": [
    "Let's confirm the new size:"
   ],
   "cell_type": "markdown",
   "metadata": {}
  },
  {
   "cell_type": "code",
   "execution_count": 191,
   "metadata": {},
   "outputs": [
    {
     "output_type": "execute_result",
     "data": {
      "text/plain": [
       "(39, 237)"
      ]
     },
     "metadata": {},
     "execution_count": 191
    }
   ],
   "source": [
    "toronto_grouped.shape"
   ]
  },
  {
   "source": [
    "Reusing the function to sort venues in descending order"
   ],
   "cell_type": "markdown",
   "metadata": {}
  },
  {
   "cell_type": "code",
   "execution_count": 192,
   "metadata": {},
   "outputs": [],
   "source": [
    "def return_most_common_venues(row, num_top_venues):\n",
    "    row_categories = row.iloc[1:]\n",
    "    row_categories_sorted = row_categories.sort_values(ascending=False)\n",
    "    \n",
    "    return row_categories_sorted.index.values[0:num_top_venues]"
   ]
  },
  {
   "source": [
    "Creating a new dataframe with the top 10 venues for each neighborhood"
   ],
   "cell_type": "markdown",
   "metadata": {}
  },
  {
   "cell_type": "code",
   "execution_count": 193,
   "metadata": {},
   "outputs": [
    {
     "output_type": "execute_result",
     "data": {
      "text/plain": [
       "                                        Neighborhood 1st Most Common Venue  \\\n",
       "0                                        Berczy Park           Coffee Shop   \n",
       "1       Brockton, Parkdale Village, Exhibition Place                  Café   \n",
       "2  Business reply mail Processing Centre, South C...           Pizza Place   \n",
       "3  CN Tower, King and Spadina, Railway Lands, Har...        Airport Lounge   \n",
       "4                                 Central Bay Street           Coffee Shop   \n",
       "\n",
       "  2nd Most Common Venue 3rd Most Common Venue 4th Most Common Venue  \\\n",
       "0          Cocktail Bar    Seafood Restaurant                Bakery   \n",
       "1             Nightclub           Coffee Shop        Breakfast Spot   \n",
       "2         Garden Center        Farmers Market               Butcher   \n",
       "3       Airport Service              Boutique                 Plane   \n",
       "4                  Café    Italian Restaurant        Sandwich Place   \n",
       "\n",
       "  5th Most Common Venue 6th Most Common Venue  7th Most Common Venue  \\\n",
       "0        Farmers Market              Beer Bar             Restaurant   \n",
       "1                Bakery     Convenience Store  Performing Arts Venue   \n",
       "2               Brewery         Burrito Place       Recording Studio   \n",
       "3               Airport    Airport Food Court           Airport Gate   \n",
       "4           Salad Place       Bubble Tea Shop       Department Store   \n",
       "\n",
       "  8th Most Common Venue 9th Most Common Venue 10th Most Common Venue  \n",
       "0           Cheese Shop                Bistro           Concert Hall  \n",
       "1             Pet Store          Climbing Gym             Restaurant  \n",
       "2                Garden         Auto Workshop   Fast Food Restaurant  \n",
       "3      Airport Terminal                   Bar        Harbor / Marina  \n",
       "4          Burger Joint   Japanese Restaurant        Thai Restaurant  "
      ],
      "text/html": "<div>\n<style scoped>\n    .dataframe tbody tr th:only-of-type {\n        vertical-align: middle;\n    }\n\n    .dataframe tbody tr th {\n        vertical-align: top;\n    }\n\n    .dataframe thead th {\n        text-align: right;\n    }\n</style>\n<table border=\"1\" class=\"dataframe\">\n  <thead>\n    <tr style=\"text-align: right;\">\n      <th></th>\n      <th>Neighborhood</th>\n      <th>1st Most Common Venue</th>\n      <th>2nd Most Common Venue</th>\n      <th>3rd Most Common Venue</th>\n      <th>4th Most Common Venue</th>\n      <th>5th Most Common Venue</th>\n      <th>6th Most Common Venue</th>\n      <th>7th Most Common Venue</th>\n      <th>8th Most Common Venue</th>\n      <th>9th Most Common Venue</th>\n      <th>10th Most Common Venue</th>\n    </tr>\n  </thead>\n  <tbody>\n    <tr>\n      <th>0</th>\n      <td>Berczy Park</td>\n      <td>Coffee Shop</td>\n      <td>Cocktail Bar</td>\n      <td>Seafood Restaurant</td>\n      <td>Bakery</td>\n      <td>Farmers Market</td>\n      <td>Beer Bar</td>\n      <td>Restaurant</td>\n      <td>Cheese Shop</td>\n      <td>Bistro</td>\n      <td>Concert Hall</td>\n    </tr>\n    <tr>\n      <th>1</th>\n      <td>Brockton, Parkdale Village, Exhibition Place</td>\n      <td>Café</td>\n      <td>Nightclub</td>\n      <td>Coffee Shop</td>\n      <td>Breakfast Spot</td>\n      <td>Bakery</td>\n      <td>Convenience Store</td>\n      <td>Performing Arts Venue</td>\n      <td>Pet Store</td>\n      <td>Climbing Gym</td>\n      <td>Restaurant</td>\n    </tr>\n    <tr>\n      <th>2</th>\n      <td>Business reply mail Processing Centre, South C...</td>\n      <td>Pizza Place</td>\n      <td>Garden Center</td>\n      <td>Farmers Market</td>\n      <td>Butcher</td>\n      <td>Brewery</td>\n      <td>Burrito Place</td>\n      <td>Recording Studio</td>\n      <td>Garden</td>\n      <td>Auto Workshop</td>\n      <td>Fast Food Restaurant</td>\n    </tr>\n    <tr>\n      <th>3</th>\n      <td>CN Tower, King and Spadina, Railway Lands, Har...</td>\n      <td>Airport Lounge</td>\n      <td>Airport Service</td>\n      <td>Boutique</td>\n      <td>Plane</td>\n      <td>Airport</td>\n      <td>Airport Food Court</td>\n      <td>Airport Gate</td>\n      <td>Airport Terminal</td>\n      <td>Bar</td>\n      <td>Harbor / Marina</td>\n    </tr>\n    <tr>\n      <th>4</th>\n      <td>Central Bay Street</td>\n      <td>Coffee Shop</td>\n      <td>Café</td>\n      <td>Italian Restaurant</td>\n      <td>Sandwich Place</td>\n      <td>Salad Place</td>\n      <td>Bubble Tea Shop</td>\n      <td>Department Store</td>\n      <td>Burger Joint</td>\n      <td>Japanese Restaurant</td>\n      <td>Thai Restaurant</td>\n    </tr>\n  </tbody>\n</table>\n</div>"
     },
     "metadata": {},
     "execution_count": 193
    }
   ],
   "source": [
    "num_top_venues = 10\n",
    "\n",
    "indicators = ['st', 'nd', 'rd']\n",
    "\n",
    "# create columns according to number of top venues\n",
    "columns = ['Neighborhood']\n",
    "for ind in np.arange(num_top_venues):\n",
    "    try:\n",
    "        columns.append('{}{} Most Common Venue'.format(ind+1, indicators[ind]))\n",
    "    except:\n",
    "        columns.append('{}th Most Common Venue'.format(ind+1))\n",
    "\n",
    "# create a new dataframe\n",
    "neighborhoods_venues_sorted = pd.DataFrame(columns=columns)\n",
    "neighborhoods_venues_sorted['Neighborhood'] = toronto_grouped['Neighborhood']\n",
    "\n",
    "for ind in np.arange(toronto_grouped.shape[0]):\n",
    "    neighborhoods_venues_sorted.iloc[ind, 1:] = return_most_common_venues(toronto_grouped.iloc[ind, :], num_top_venues)\n",
    "\n",
    "neighborhoods_venues_sorted.head()"
   ]
  },
  {
   "source": [
    "### Clustering Neighborhoods\n",
    "Let's run the k-mean to cluster the neighborhood into 5 cluster"
   ],
   "cell_type": "markdown",
   "metadata": {}
  },
  {
   "cell_type": "code",
   "execution_count": 194,
   "metadata": {},
   "outputs": [],
   "source": [
    "# import k-means from clustering stage\n",
    "from sklearn.cluster import KMeans"
   ]
  },
  {
   "cell_type": "code",
   "execution_count": 198,
   "metadata": {},
   "outputs": [
    {
     "output_type": "execute_result",
     "data": {
      "text/plain": [
       "array([0, 0, 0, 0, 0, 0, 0, 0, 0, 0, 0, 0, 3, 0, 0, 0, 0, 0, 2, 0, 1, 0,\n",
       "       0, 0, 0, 0, 3, 4, 0, 0], dtype=int32)"
      ]
     },
     "metadata": {},
     "execution_count": 198
    }
   ],
   "source": [
    "# set number of clusters\n",
    "kclusters = 5\n",
    "\n",
    "toronto_grouped_clustering = toronto_grouped.drop('Neighborhood', 1)\n",
    "\n",
    "# run k-mens clustering\n",
    "kmeans = KMeans(n_clusters = kclusters, random_state=0).fit(toronto_grouped_clustering)\n",
    "\n",
    "# check cluster labels generated for each row in the dataframe\n",
    "kmeans.labels_[0:30]"
   ]
  },
  {
   "source": [
    "Creating a new dataframe including the cluster and the top 10 venues for each neighborhood"
   ],
   "cell_type": "markdown",
   "metadata": {}
  },
  {
   "cell_type": "code",
   "execution_count": 203,
   "metadata": {},
   "outputs": [
    {
     "output_type": "execute_result",
     "data": {
      "text/plain": [
       "  Postal Code          Borough                   Neighbourhood   Latitude  \\\n",
       "0         M4E     East Toronto                     The Beaches  43.676357   \n",
       "1         M4K     East Toronto    The Danforth West, Riverdale  43.679557   \n",
       "2         M4L     East Toronto  India Bazaar, The Beaches West  43.668999   \n",
       "3         M4M     East Toronto                 Studio District  43.659526   \n",
       "4         M4N  Central Toronto                   Lawrence Park  43.728020   \n",
       "\n",
       "   Longitude  Cluster Labels 1st Most Common Venue 2nd Most Common Venue  \\\n",
       "0 -79.293031               0     Health Food Store                   Pub   \n",
       "1 -79.352188               0      Greek Restaurant           Coffee Shop   \n",
       "2 -79.315572               0                  Park                   Gym   \n",
       "3 -79.340923               0           Coffee Shop                Bakery   \n",
       "4 -79.388790               2                  Park              Bus Line   \n",
       "\n",
       "  3rd Most Common Venue 4th Most Common Venue 5th Most Common Venue  \\\n",
       "0                 Trail           Yoga Studio               Dog Run   \n",
       "1    Italian Restaurant             Bookstore            Restaurant   \n",
       "2                   Pub        Sandwich Place          Liquor Store   \n",
       "3             Gastropub               Brewery                  Café   \n",
       "4           Swim School    Dim Sum Restaurant  Ethiopian Restaurant   \n",
       "\n",
       "  6th Most Common Venue   7th Most Common Venue        8th Most Common Venue  \\\n",
       "0    Dim Sum Restaurant                   Diner               Discount Store   \n",
       "1        Ice Cream Shop  Furniture / Home Store                          Pub   \n",
       "2         Burrito Place      Italian Restaurant                   Restaurant   \n",
       "3   American Restaurant       Convenience Store                    Bookstore   \n",
       "4           Escape Room       Electronics Store  Eastern European Restaurant   \n",
       "\n",
       "  9th Most Common Venue 10th Most Common Venue  \n",
       "0   Distribution Center             Donut Shop  \n",
       "1                   Spa      Indian Restaurant  \n",
       "2  Fast Food Restaurant      Fish & Chips Shop  \n",
       "3    Seafood Restaurant            Cheese Shop  \n",
       "4   Dumpling Restaurant             Donut Shop  "
      ],
      "text/html": "<div>\n<style scoped>\n    .dataframe tbody tr th:only-of-type {\n        vertical-align: middle;\n    }\n\n    .dataframe tbody tr th {\n        vertical-align: top;\n    }\n\n    .dataframe thead th {\n        text-align: right;\n    }\n</style>\n<table border=\"1\" class=\"dataframe\">\n  <thead>\n    <tr style=\"text-align: right;\">\n      <th></th>\n      <th>Postal Code</th>\n      <th>Borough</th>\n      <th>Neighbourhood</th>\n      <th>Latitude</th>\n      <th>Longitude</th>\n      <th>Cluster Labels</th>\n      <th>1st Most Common Venue</th>\n      <th>2nd Most Common Venue</th>\n      <th>3rd Most Common Venue</th>\n      <th>4th Most Common Venue</th>\n      <th>5th Most Common Venue</th>\n      <th>6th Most Common Venue</th>\n      <th>7th Most Common Venue</th>\n      <th>8th Most Common Venue</th>\n      <th>9th Most Common Venue</th>\n      <th>10th Most Common Venue</th>\n    </tr>\n  </thead>\n  <tbody>\n    <tr>\n      <th>0</th>\n      <td>M4E</td>\n      <td>East Toronto</td>\n      <td>The Beaches</td>\n      <td>43.676357</td>\n      <td>-79.293031</td>\n      <td>0</td>\n      <td>Health Food Store</td>\n      <td>Pub</td>\n      <td>Trail</td>\n      <td>Yoga Studio</td>\n      <td>Dog Run</td>\n      <td>Dim Sum Restaurant</td>\n      <td>Diner</td>\n      <td>Discount Store</td>\n      <td>Distribution Center</td>\n      <td>Donut Shop</td>\n    </tr>\n    <tr>\n      <th>1</th>\n      <td>M4K</td>\n      <td>East Toronto</td>\n      <td>The Danforth West, Riverdale</td>\n      <td>43.679557</td>\n      <td>-79.352188</td>\n      <td>0</td>\n      <td>Greek Restaurant</td>\n      <td>Coffee Shop</td>\n      <td>Italian Restaurant</td>\n      <td>Bookstore</td>\n      <td>Restaurant</td>\n      <td>Ice Cream Shop</td>\n      <td>Furniture / Home Store</td>\n      <td>Pub</td>\n      <td>Spa</td>\n      <td>Indian Restaurant</td>\n    </tr>\n    <tr>\n      <th>2</th>\n      <td>M4L</td>\n      <td>East Toronto</td>\n      <td>India Bazaar, The Beaches West</td>\n      <td>43.668999</td>\n      <td>-79.315572</td>\n      <td>0</td>\n      <td>Park</td>\n      <td>Gym</td>\n      <td>Pub</td>\n      <td>Sandwich Place</td>\n      <td>Liquor Store</td>\n      <td>Burrito Place</td>\n      <td>Italian Restaurant</td>\n      <td>Restaurant</td>\n      <td>Fast Food Restaurant</td>\n      <td>Fish &amp; Chips Shop</td>\n    </tr>\n    <tr>\n      <th>3</th>\n      <td>M4M</td>\n      <td>East Toronto</td>\n      <td>Studio District</td>\n      <td>43.659526</td>\n      <td>-79.340923</td>\n      <td>0</td>\n      <td>Coffee Shop</td>\n      <td>Bakery</td>\n      <td>Gastropub</td>\n      <td>Brewery</td>\n      <td>Café</td>\n      <td>American Restaurant</td>\n      <td>Convenience Store</td>\n      <td>Bookstore</td>\n      <td>Seafood Restaurant</td>\n      <td>Cheese Shop</td>\n    </tr>\n    <tr>\n      <th>4</th>\n      <td>M4N</td>\n      <td>Central Toronto</td>\n      <td>Lawrence Park</td>\n      <td>43.728020</td>\n      <td>-79.388790</td>\n      <td>2</td>\n      <td>Park</td>\n      <td>Bus Line</td>\n      <td>Swim School</td>\n      <td>Dim Sum Restaurant</td>\n      <td>Ethiopian Restaurant</td>\n      <td>Escape Room</td>\n      <td>Electronics Store</td>\n      <td>Eastern European Restaurant</td>\n      <td>Dumpling Restaurant</td>\n      <td>Donut Shop</td>\n    </tr>\n  </tbody>\n</table>\n</div>"
     },
     "metadata": {},
     "execution_count": 203
    }
   ],
   "source": [
    "# add clustering labels\n",
    "neighborhoods_venues_sorted.insert(0,'Cluster Labels', kmeans.labels_)\n",
    "\n",
    "toronto_merged = df_filtered\n",
    "\n",
    "# merge toronto_grouped with df_filtered to add latitude, longitude for each neighborhood\n",
    "toronto_merged = toronto_merged.join(neighborhoods_venues_sorted.set_index('Neighborhood'), on='Neighbourhood')\n",
    "\n",
    "toronto_merged.head()"
   ]
  },
  {
   "source": [
    "Let's visualize the resulting clusters"
   ],
   "cell_type": "markdown",
   "metadata": {}
  },
  {
   "cell_type": "code",
   "execution_count": 208,
   "metadata": {},
   "outputs": [],
   "source": [
    "# Matplotlib and associated plotting modules\n",
    "import matplotlib.cm as cm\n",
    "import matplotlib.colors as colors"
   ]
  },
  {
   "cell_type": "code",
   "execution_count": 216,
   "metadata": {},
   "outputs": [
    {
     "output_type": "execute_result",
     "data": {
      "text/plain": [
       "<folium.folium.Map at 0x7febc6117250>"
      ],
      "text/html": "<div style=\"width:100%;\"><div style=\"position:relative;width:100%;height:0;padding-bottom:60%;\"><span style=\"color:#565656\">Make this Notebook Trusted to load map: File -> Trust Notebook</span><iframe src=\"about:blank\" style=\"position:absolute;width:100%;height:100%;left:0;top:0;border:none !important;\" data-html=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 onload=\"this.contentDocument.open();this.contentDocument.write(atob(this.getAttribute('data-html')));this.contentDocument.close();\" allowfullscreen webkitallowfullscreen mozallowfullscreen></iframe></div></div>"
     },
     "metadata": {},
     "execution_count": 216
    }
   ],
   "source": [
    "# create map\n",
    "map_cluster = folium.Map(location=[toronto_latitude, toronto_longitude], zoom_start=11)\n",
    "\n",
    "# set color scheme for the clusters\n",
    "x = np.arange(kclusters)\n",
    "ys = [i + x + (i*x)**2 for i in range(kclusters)]\n",
    "colors_array = cm.rainbow(np.linspace(0, 1, len(ys)))\n",
    "rainbow = [colors.rgb2hex(i) for i in colors_array]\n",
    "\n",
    "# add markers to the map\n",
    "markers_colors = []\n",
    "for lat, lon, poi, cluster in zip(toronto_merged['Latitude'], toronto_merged['Longitude'], toronto_merged['Neighbourhood'], toronto_merged['Cluster Labels']):\n",
    "    label = folium.Popup(str(poi) + ' Cluster ' + str(cluster), parse_html=True)\n",
    "    folium.CircleMarker(\n",
    "        [lat, lon],\n",
    "        radius=5,\n",
    "        popup=label,\n",
    "        color=rainbow[cluster-1],\n",
    "        fill=True,\n",
    "        fill_color=rainbow[cluster-1],\n",
    "        fill_opacity=0.7).add_to(map_cluster)\n",
    "\n",
    "map_cluster"
   ]
  },
  {
   "source": [
    "![Screenshot from folium 3](./SC_toronto_map3.png)"
   ],
   "cell_type": "markdown",
   "metadata": {}
  },
  {
   "source": [
    "### Examine Clusters"
   ],
   "cell_type": "markdown",
   "metadata": {}
  },
  {
   "source": [
    "Let's take a look on each cluster"
   ],
   "cell_type": "markdown",
   "metadata": {}
  },
  {
   "source": [
    "**Cluster 1**"
   ],
   "cell_type": "markdown",
   "metadata": {}
  },
  {
   "cell_type": "code",
   "execution_count": 217,
   "metadata": {},
   "outputs": [
    {
     "output_type": "execute_result",
     "data": {
      "text/plain": [
       "             Borough  Cluster Labels 1st Most Common Venue  \\\n",
       "0       East Toronto               0     Health Food Store   \n",
       "1       East Toronto               0      Greek Restaurant   \n",
       "2       East Toronto               0                  Park   \n",
       "3       East Toronto               0           Coffee Shop   \n",
       "5    Central Toronto               0      Department Store   \n",
       "6    Central Toronto               0           Coffee Shop   \n",
       "7    Central Toronto               0          Dessert Shop   \n",
       "9    Central Toronto               0           Coffee Shop   \n",
       "11  Downtown Toronto               0           Coffee Shop   \n",
       "12  Downtown Toronto               0           Coffee Shop   \n",
       "13  Downtown Toronto               0           Coffee Shop   \n",
       "14  Downtown Toronto               0        Clothing Store   \n",
       "15  Downtown Toronto               0           Coffee Shop   \n",
       "16  Downtown Toronto               0           Coffee Shop   \n",
       "17  Downtown Toronto               0           Coffee Shop   \n",
       "18  Downtown Toronto               0           Coffee Shop   \n",
       "19  Downtown Toronto               0           Coffee Shop   \n",
       "20  Downtown Toronto               0           Coffee Shop   \n",
       "21  Downtown Toronto               0           Coffee Shop   \n",
       "24   Central Toronto               0        Sandwich Place   \n",
       "25  Downtown Toronto               0                  Café   \n",
       "26  Downtown Toronto               0    Mexican Restaurant   \n",
       "27  Downtown Toronto               0        Airport Lounge   \n",
       "28  Downtown Toronto               0           Coffee Shop   \n",
       "29  Downtown Toronto               0           Coffee Shop   \n",
       "30  Downtown Toronto               0         Grocery Store   \n",
       "31      West Toronto               0                Bakery   \n",
       "32      West Toronto               0                   Bar   \n",
       "33      West Toronto               0                  Café   \n",
       "34      West Toronto               0                  Café   \n",
       "35      West Toronto               0        Breakfast Spot   \n",
       "36      West Toronto               0                  Café   \n",
       "37  Downtown Toronto               0           Coffee Shop   \n",
       "38      East Toronto               0           Pizza Place   \n",
       "\n",
       "            2nd Most Common Venue  3rd Most Common Venue  \\\n",
       "0                             Pub                  Trail   \n",
       "1                     Coffee Shop     Italian Restaurant   \n",
       "2                             Gym                    Pub   \n",
       "3                          Bakery              Gastropub   \n",
       "5                         Dog Run                   Park   \n",
       "6                  Clothing Store            Yoga Studio   \n",
       "7                  Sandwich Place            Pizza Place   \n",
       "9                     Pizza Place     Light Rail Station   \n",
       "11                           Café            Pizza Place   \n",
       "12            Japanese Restaurant                Gay Bar   \n",
       "13                           Park                 Bakery   \n",
       "14                    Coffee Shop                   Café   \n",
       "15                           Café           Cocktail Bar   \n",
       "16                   Cocktail Bar     Seafood Restaurant   \n",
       "17                           Café     Italian Restaurant   \n",
       "18                           Café                    Gym   \n",
       "19                       Aquarium                  Hotel   \n",
       "20                          Hotel                   Café   \n",
       "21                     Restaurant                  Hotel   \n",
       "24                           Café            Coffee Shop   \n",
       "25                      Bookstore                    Bar   \n",
       "26  Vegetarian / Vegan Restaurant            Coffee Shop   \n",
       "27                Airport Service               Boutique   \n",
       "28             Italian Restaurant                    Pub   \n",
       "29                           Café                  Hotel   \n",
       "30                           Café                   Park   \n",
       "31                       Pharmacy            Supermarket   \n",
       "32                    Coffee Shop  Vietnamese Restaurant   \n",
       "33                      Nightclub            Coffee Shop   \n",
       "34                            Bar     Mexican Restaurant   \n",
       "35                      Gift Shop           Dessert Shop   \n",
       "36                    Coffee Shop                    Pub   \n",
       "37                    Yoga Studio                  Diner   \n",
       "38                  Garden Center         Farmers Market   \n",
       "\n",
       "   4th Most Common Venue        5th Most Common Venue  6th Most Common Venue  \\\n",
       "0            Yoga Studio                      Dog Run     Dim Sum Restaurant   \n",
       "1              Bookstore                   Restaurant         Ice Cream Shop   \n",
       "2         Sandwich Place                 Liquor Store          Burrito Place   \n",
       "3                Brewery                         Café    American Restaurant   \n",
       "5   Gym / Fitness Center               Breakfast Spot           Dance Studio   \n",
       "6     Chinese Restaurant           Salon / Barbershop   Fast Food Restaurant   \n",
       "7                    Gym           Italian Restaurant            Coffee Shop   \n",
       "9           Liquor Store                   Restaurant                   Bank   \n",
       "11            Restaurant           Italian Restaurant                 Market   \n",
       "12      Sushi Restaurant                   Restaurant                    Pub   \n",
       "13                   Pub               Breakfast Spot                   Café   \n",
       "14       Bubble Tea Shop          Japanese Restaurant         Cosmetics Shop   \n",
       "15            Restaurant                     Beer Bar              Gastropub   \n",
       "16                Bakery               Farmers Market               Beer Bar   \n",
       "17        Sandwich Place                  Salad Place        Bubble Tea Shop   \n",
       "18            Restaurant                        Hotel                    Bar   \n",
       "19                  Café          Fried Chicken Joint         Scenic Lookout   \n",
       "20            Restaurant                  Salad Place    American Restaurant   \n",
       "21                  Café                          Gym          Deli / Bodega   \n",
       "24                  Park               History Museum           Liquor Store   \n",
       "25   Japanese Restaurant               Sandwich Place                 Bakery   \n",
       "26                  Café                          Bar  Vietnamese Restaurant   \n",
       "27                 Plane                      Airport     Airport Food Court   \n",
       "28            Restaurant          Japanese Restaurant     Seafood Restaurant   \n",
       "29                   Gym          Japanese Restaurant             Restaurant   \n",
       "30            Restaurant                  Candy Store     Athletics & Sports   \n",
       "31                  Café                Grocery Store                Brewery   \n",
       "32            Restaurant                         Café       Asian Restaurant   \n",
       "33        Breakfast Spot                       Bakery      Convenience Store   \n",
       "34       Thai Restaurant                    Speakeasy            Flea Market   \n",
       "35      Cuban Restaurant  Eastern European Restaurant                Dog Run   \n",
       "36           Pizza Place             Sushi Restaurant     Italian Restaurant   \n",
       "37            Restaurant        Portuguese Restaurant                   Park   \n",
       "38               Butcher                      Brewery          Burrito Place   \n",
       "\n",
       "     7th Most Common Venue     8th Most Common Venue  \\\n",
       "0                    Diner            Discount Store   \n",
       "1   Furniture / Home Store                       Pub   \n",
       "2       Italian Restaurant                Restaurant   \n",
       "3        Convenience Store                 Bookstore   \n",
       "5                    Hotel            Sandwich Place   \n",
       "6                      Spa                     Diner   \n",
       "7                     Café          Sushi Restaurant   \n",
       "9               Bagel Shop                       Pub   \n",
       "11                    Park        Chinese Restaurant   \n",
       "12             Men's Store  Mediterranean Restaurant   \n",
       "13                 Theater                Shoe Store   \n",
       "14          Lingerie Store                     Hotel   \n",
       "15     American Restaurant            Farmers Market   \n",
       "16              Restaurant               Cheese Shop   \n",
       "17        Department Store              Burger Joint   \n",
       "18         Thai Restaurant            Clothing Store   \n",
       "19                 Brewery               Pizza Place   \n",
       "20      Seafood Restaurant       Japanese Restaurant   \n",
       "21     Japanese Restaurant        Seafood Restaurant   \n",
       "24            Burger Joint         Indian Restaurant   \n",
       "25             Yoga Studio                       Pub   \n",
       "26             Gaming Cafe                      Park   \n",
       "27            Airport Gate          Airport Terminal   \n",
       "28                Beer Bar                     Hotel   \n",
       "29     American Restaurant             Deli / Bodega   \n",
       "30      Italian Restaurant                Baby Store   \n",
       "31                    Park                      Bank   \n",
       "32             Men's Store          Cuban Restaurant   \n",
       "33   Performing Arts Venue                 Pet Store   \n",
       "34                  Bakery            Discount Store   \n",
       "35                     Bar        Italian Restaurant   \n",
       "36             Yoga Studio              Gourmet Shop   \n",
       "37             Music Venue        Mexican Restaurant   \n",
       "38        Recording Studio                    Garden   \n",
       "\n",
       "        9th Most Common Venue     10th Most Common Venue  \n",
       "0         Distribution Center                 Donut Shop  \n",
       "1                         Spa          Indian Restaurant  \n",
       "2        Fast Food Restaurant          Fish & Chips Shop  \n",
       "3          Seafood Restaurant                Cheese Shop  \n",
       "5           Food & Drink Shop             Discount Store  \n",
       "6         Sporting Goods Shop                 Restaurant  \n",
       "7                    Pharmacy         Seafood Restaurant  \n",
       "9                 Supermarket        Fried Chicken Joint  \n",
       "11                     Bakery                        Pub  \n",
       "12                      Hotel                Yoga Studio  \n",
       "13                    Brewery                 Restaurant  \n",
       "14                  Bookstore                Pizza Place  \n",
       "15                      Hotel        Japanese Restaurant  \n",
       "16                     Bistro               Concert Hall  \n",
       "17        Japanese Restaurant            Thai Restaurant  \n",
       "18                     Office           Sushi Restaurant  \n",
       "19                 Restaurant        Sporting Goods Shop  \n",
       "20           Asian Restaurant                 Steakhouse  \n",
       "21        American Restaurant                   Beer Bar  \n",
       "24  Middle Eastern Restaurant                        Pub  \n",
       "25                   Beer Bar                 Beer Store  \n",
       "26               Dessert Shop                     Bakery  \n",
       "27                        Bar            Harbor / Marina  \n",
       "28                       Café               Cocktail Bar  \n",
       "29         Seafood Restaurant           Asian Restaurant  \n",
       "30                Coffee Shop                  Nightclub  \n",
       "31                Music Venue  Middle Eastern Restaurant  \n",
       "32                Record Shop                Pizza Place  \n",
       "33               Climbing Gym                 Restaurant  \n",
       "34         Italian Restaurant        Fried Chicken Joint  \n",
       "35                 Restaurant              Movie Theater  \n",
       "36                 Restaurant  Latin American Restaurant  \n",
       "37         Italian Restaurant                 Hobby Shop  \n",
       "38              Auto Workshop       Fast Food Restaurant  "
      ],
      "text/html": "<div>\n<style scoped>\n    .dataframe tbody tr th:only-of-type {\n        vertical-align: middle;\n    }\n\n    .dataframe tbody tr th {\n        vertical-align: top;\n    }\n\n    .dataframe thead th {\n        text-align: right;\n    }\n</style>\n<table border=\"1\" class=\"dataframe\">\n  <thead>\n    <tr style=\"text-align: right;\">\n      <th></th>\n      <th>Borough</th>\n      <th>Cluster Labels</th>\n      <th>1st Most Common Venue</th>\n      <th>2nd Most Common Venue</th>\n      <th>3rd Most Common Venue</th>\n      <th>4th Most Common Venue</th>\n      <th>5th Most Common Venue</th>\n      <th>6th Most Common Venue</th>\n      <th>7th Most Common Venue</th>\n      <th>8th Most Common Venue</th>\n      <th>9th Most Common Venue</th>\n      <th>10th Most Common Venue</th>\n    </tr>\n  </thead>\n  <tbody>\n    <tr>\n      <th>0</th>\n      <td>East Toronto</td>\n      <td>0</td>\n      <td>Health Food Store</td>\n      <td>Pub</td>\n      <td>Trail</td>\n      <td>Yoga Studio</td>\n      <td>Dog Run</td>\n      <td>Dim Sum Restaurant</td>\n      <td>Diner</td>\n      <td>Discount Store</td>\n      <td>Distribution Center</td>\n      <td>Donut Shop</td>\n    </tr>\n    <tr>\n      <th>1</th>\n      <td>East Toronto</td>\n      <td>0</td>\n      <td>Greek Restaurant</td>\n      <td>Coffee Shop</td>\n      <td>Italian Restaurant</td>\n      <td>Bookstore</td>\n      <td>Restaurant</td>\n      <td>Ice Cream Shop</td>\n      <td>Furniture / Home Store</td>\n      <td>Pub</td>\n      <td>Spa</td>\n      <td>Indian Restaurant</td>\n    </tr>\n    <tr>\n      <th>2</th>\n      <td>East Toronto</td>\n      <td>0</td>\n      <td>Park</td>\n      <td>Gym</td>\n      <td>Pub</td>\n      <td>Sandwich Place</td>\n      <td>Liquor Store</td>\n      <td>Burrito Place</td>\n      <td>Italian Restaurant</td>\n      <td>Restaurant</td>\n      <td>Fast Food Restaurant</td>\n      <td>Fish &amp; Chips Shop</td>\n    </tr>\n    <tr>\n      <th>3</th>\n      <td>East Toronto</td>\n      <td>0</td>\n      <td>Coffee Shop</td>\n      <td>Bakery</td>\n      <td>Gastropub</td>\n      <td>Brewery</td>\n      <td>Café</td>\n      <td>American Restaurant</td>\n      <td>Convenience Store</td>\n      <td>Bookstore</td>\n      <td>Seafood Restaurant</td>\n      <td>Cheese Shop</td>\n    </tr>\n    <tr>\n      <th>5</th>\n      <td>Central Toronto</td>\n      <td>0</td>\n      <td>Department Store</td>\n      <td>Dog Run</td>\n      <td>Park</td>\n      <td>Gym / Fitness Center</td>\n      <td>Breakfast Spot</td>\n      <td>Dance Studio</td>\n      <td>Hotel</td>\n      <td>Sandwich Place</td>\n      <td>Food &amp; Drink Shop</td>\n      <td>Discount Store</td>\n    </tr>\n    <tr>\n      <th>6</th>\n      <td>Central Toronto</td>\n      <td>0</td>\n      <td>Coffee Shop</td>\n      <td>Clothing Store</td>\n      <td>Yoga Studio</td>\n      <td>Chinese Restaurant</td>\n      <td>Salon / Barbershop</td>\n      <td>Fast Food Restaurant</td>\n      <td>Spa</td>\n      <td>Diner</td>\n      <td>Sporting Goods Shop</td>\n      <td>Restaurant</td>\n    </tr>\n    <tr>\n      <th>7</th>\n      <td>Central Toronto</td>\n      <td>0</td>\n      <td>Dessert Shop</td>\n      <td>Sandwich Place</td>\n      <td>Pizza Place</td>\n      <td>Gym</td>\n      <td>Italian Restaurant</td>\n      <td>Coffee Shop</td>\n      <td>Café</td>\n      <td>Sushi Restaurant</td>\n      <td>Pharmacy</td>\n      <td>Seafood Restaurant</td>\n    </tr>\n    <tr>\n      <th>9</th>\n      <td>Central Toronto</td>\n      <td>0</td>\n      <td>Coffee Shop</td>\n      <td>Pizza Place</td>\n      <td>Light Rail Station</td>\n      <td>Liquor Store</td>\n      <td>Restaurant</td>\n      <td>Bank</td>\n      <td>Bagel Shop</td>\n      <td>Pub</td>\n      <td>Supermarket</td>\n      <td>Fried Chicken Joint</td>\n    </tr>\n    <tr>\n      <th>11</th>\n      <td>Downtown Toronto</td>\n      <td>0</td>\n      <td>Coffee Shop</td>\n      <td>Café</td>\n      <td>Pizza Place</td>\n      <td>Restaurant</td>\n      <td>Italian Restaurant</td>\n      <td>Market</td>\n      <td>Park</td>\n      <td>Chinese Restaurant</td>\n      <td>Bakery</td>\n      <td>Pub</td>\n    </tr>\n    <tr>\n      <th>12</th>\n      <td>Downtown Toronto</td>\n      <td>0</td>\n      <td>Coffee Shop</td>\n      <td>Japanese Restaurant</td>\n      <td>Gay Bar</td>\n      <td>Sushi Restaurant</td>\n      <td>Restaurant</td>\n      <td>Pub</td>\n      <td>Men's Store</td>\n      <td>Mediterranean Restaurant</td>\n      <td>Hotel</td>\n      <td>Yoga Studio</td>\n    </tr>\n    <tr>\n      <th>13</th>\n      <td>Downtown Toronto</td>\n      <td>0</td>\n      <td>Coffee Shop</td>\n      <td>Park</td>\n      <td>Bakery</td>\n      <td>Pub</td>\n      <td>Breakfast Spot</td>\n      <td>Café</td>\n      <td>Theater</td>\n      <td>Shoe Store</td>\n      <td>Brewery</td>\n      <td>Restaurant</td>\n    </tr>\n    <tr>\n      <th>14</th>\n      <td>Downtown Toronto</td>\n      <td>0</td>\n      <td>Clothing Store</td>\n      <td>Coffee Shop</td>\n      <td>Café</td>\n      <td>Bubble Tea Shop</td>\n      <td>Japanese Restaurant</td>\n      <td>Cosmetics Shop</td>\n      <td>Lingerie Store</td>\n      <td>Hotel</td>\n      <td>Bookstore</td>\n      <td>Pizza Place</td>\n    </tr>\n    <tr>\n      <th>15</th>\n      <td>Downtown Toronto</td>\n      <td>0</td>\n      <td>Coffee Shop</td>\n      <td>Café</td>\n      <td>Cocktail Bar</td>\n      <td>Restaurant</td>\n      <td>Beer Bar</td>\n      <td>Gastropub</td>\n      <td>American Restaurant</td>\n      <td>Farmers Market</td>\n      <td>Hotel</td>\n      <td>Japanese Restaurant</td>\n    </tr>\n    <tr>\n      <th>16</th>\n      <td>Downtown Toronto</td>\n      <td>0</td>\n      <td>Coffee Shop</td>\n      <td>Cocktail Bar</td>\n      <td>Seafood Restaurant</td>\n      <td>Bakery</td>\n      <td>Farmers Market</td>\n      <td>Beer Bar</td>\n      <td>Restaurant</td>\n      <td>Cheese Shop</td>\n      <td>Bistro</td>\n      <td>Concert Hall</td>\n    </tr>\n    <tr>\n      <th>17</th>\n      <td>Downtown Toronto</td>\n      <td>0</td>\n      <td>Coffee Shop</td>\n      <td>Café</td>\n      <td>Italian Restaurant</td>\n      <td>Sandwich Place</td>\n      <td>Salad Place</td>\n      <td>Bubble Tea Shop</td>\n      <td>Department Store</td>\n      <td>Burger Joint</td>\n      <td>Japanese Restaurant</td>\n      <td>Thai Restaurant</td>\n    </tr>\n    <tr>\n      <th>18</th>\n      <td>Downtown Toronto</td>\n      <td>0</td>\n      <td>Coffee Shop</td>\n      <td>Café</td>\n      <td>Gym</td>\n      <td>Restaurant</td>\n      <td>Hotel</td>\n      <td>Bar</td>\n      <td>Thai Restaurant</td>\n      <td>Clothing Store</td>\n      <td>Office</td>\n      <td>Sushi Restaurant</td>\n    </tr>\n    <tr>\n      <th>19</th>\n      <td>Downtown Toronto</td>\n      <td>0</td>\n      <td>Coffee Shop</td>\n      <td>Aquarium</td>\n      <td>Hotel</td>\n      <td>Café</td>\n      <td>Fried Chicken Joint</td>\n      <td>Scenic Lookout</td>\n      <td>Brewery</td>\n      <td>Pizza Place</td>\n      <td>Restaurant</td>\n      <td>Sporting Goods Shop</td>\n    </tr>\n    <tr>\n      <th>20</th>\n      <td>Downtown Toronto</td>\n      <td>0</td>\n      <td>Coffee Shop</td>\n      <td>Hotel</td>\n      <td>Café</td>\n      <td>Restaurant</td>\n      <td>Salad Place</td>\n      <td>American Restaurant</td>\n      <td>Seafood Restaurant</td>\n      <td>Japanese Restaurant</td>\n      <td>Asian Restaurant</td>\n      <td>Steakhouse</td>\n    </tr>\n    <tr>\n      <th>21</th>\n      <td>Downtown Toronto</td>\n      <td>0</td>\n      <td>Coffee Shop</td>\n      <td>Restaurant</td>\n      <td>Hotel</td>\n      <td>Café</td>\n      <td>Gym</td>\n      <td>Deli / Bodega</td>\n      <td>Japanese Restaurant</td>\n      <td>Seafood Restaurant</td>\n      <td>American Restaurant</td>\n      <td>Beer Bar</td>\n    </tr>\n    <tr>\n      <th>24</th>\n      <td>Central Toronto</td>\n      <td>0</td>\n      <td>Sandwich Place</td>\n      <td>Café</td>\n      <td>Coffee Shop</td>\n      <td>Park</td>\n      <td>History Museum</td>\n      <td>Liquor Store</td>\n      <td>Burger Joint</td>\n      <td>Indian Restaurant</td>\n      <td>Middle Eastern Restaurant</td>\n      <td>Pub</td>\n    </tr>\n    <tr>\n      <th>25</th>\n      <td>Downtown Toronto</td>\n      <td>0</td>\n      <td>Café</td>\n      <td>Bookstore</td>\n      <td>Bar</td>\n      <td>Japanese Restaurant</td>\n      <td>Sandwich Place</td>\n      <td>Bakery</td>\n      <td>Yoga Studio</td>\n      <td>Pub</td>\n      <td>Beer Bar</td>\n      <td>Beer Store</td>\n    </tr>\n    <tr>\n      <th>26</th>\n      <td>Downtown Toronto</td>\n      <td>0</td>\n      <td>Mexican Restaurant</td>\n      <td>Vegetarian / Vegan Restaurant</td>\n      <td>Coffee Shop</td>\n      <td>Café</td>\n      <td>Bar</td>\n      <td>Vietnamese Restaurant</td>\n      <td>Gaming Cafe</td>\n      <td>Park</td>\n      <td>Dessert Shop</td>\n      <td>Bakery</td>\n    </tr>\n    <tr>\n      <th>27</th>\n      <td>Downtown Toronto</td>\n      <td>0</td>\n      <td>Airport Lounge</td>\n      <td>Airport Service</td>\n      <td>Boutique</td>\n      <td>Plane</td>\n      <td>Airport</td>\n      <td>Airport Food Court</td>\n      <td>Airport Gate</td>\n      <td>Airport Terminal</td>\n      <td>Bar</td>\n      <td>Harbor / Marina</td>\n    </tr>\n    <tr>\n      <th>28</th>\n      <td>Downtown Toronto</td>\n      <td>0</td>\n      <td>Coffee Shop</td>\n      <td>Italian Restaurant</td>\n      <td>Pub</td>\n      <td>Restaurant</td>\n      <td>Japanese Restaurant</td>\n      <td>Seafood Restaurant</td>\n      <td>Beer Bar</td>\n      <td>Hotel</td>\n      <td>Café</td>\n      <td>Cocktail Bar</td>\n    </tr>\n    <tr>\n      <th>29</th>\n      <td>Downtown Toronto</td>\n      <td>0</td>\n      <td>Coffee Shop</td>\n      <td>Café</td>\n      <td>Hotel</td>\n      <td>Gym</td>\n      <td>Japanese Restaurant</td>\n      <td>Restaurant</td>\n      <td>American Restaurant</td>\n      <td>Deli / Bodega</td>\n      <td>Seafood Restaurant</td>\n      <td>Asian Restaurant</td>\n    </tr>\n    <tr>\n      <th>30</th>\n      <td>Downtown Toronto</td>\n      <td>0</td>\n      <td>Grocery Store</td>\n      <td>Café</td>\n      <td>Park</td>\n      <td>Restaurant</td>\n      <td>Candy Store</td>\n      <td>Athletics &amp; Sports</td>\n      <td>Italian Restaurant</td>\n      <td>Baby Store</td>\n      <td>Coffee Shop</td>\n      <td>Nightclub</td>\n    </tr>\n    <tr>\n      <th>31</th>\n      <td>West Toronto</td>\n      <td>0</td>\n      <td>Bakery</td>\n      <td>Pharmacy</td>\n      <td>Supermarket</td>\n      <td>Café</td>\n      <td>Grocery Store</td>\n      <td>Brewery</td>\n      <td>Park</td>\n      <td>Bank</td>\n      <td>Music Venue</td>\n      <td>Middle Eastern Restaurant</td>\n    </tr>\n    <tr>\n      <th>32</th>\n      <td>West Toronto</td>\n      <td>0</td>\n      <td>Bar</td>\n      <td>Coffee Shop</td>\n      <td>Vietnamese Restaurant</td>\n      <td>Restaurant</td>\n      <td>Café</td>\n      <td>Asian Restaurant</td>\n      <td>Men's Store</td>\n      <td>Cuban Restaurant</td>\n      <td>Record Shop</td>\n      <td>Pizza Place</td>\n    </tr>\n    <tr>\n      <th>33</th>\n      <td>West Toronto</td>\n      <td>0</td>\n      <td>Café</td>\n      <td>Nightclub</td>\n      <td>Coffee Shop</td>\n      <td>Breakfast Spot</td>\n      <td>Bakery</td>\n      <td>Convenience Store</td>\n      <td>Performing Arts Venue</td>\n      <td>Pet Store</td>\n      <td>Climbing Gym</td>\n      <td>Restaurant</td>\n    </tr>\n    <tr>\n      <th>34</th>\n      <td>West Toronto</td>\n      <td>0</td>\n      <td>Café</td>\n      <td>Bar</td>\n      <td>Mexican Restaurant</td>\n      <td>Thai Restaurant</td>\n      <td>Speakeasy</td>\n      <td>Flea Market</td>\n      <td>Bakery</td>\n      <td>Discount Store</td>\n      <td>Italian Restaurant</td>\n      <td>Fried Chicken Joint</td>\n    </tr>\n    <tr>\n      <th>35</th>\n      <td>West Toronto</td>\n      <td>0</td>\n      <td>Breakfast Spot</td>\n      <td>Gift Shop</td>\n      <td>Dessert Shop</td>\n      <td>Cuban Restaurant</td>\n      <td>Eastern European Restaurant</td>\n      <td>Dog Run</td>\n      <td>Bar</td>\n      <td>Italian Restaurant</td>\n      <td>Restaurant</td>\n      <td>Movie Theater</td>\n    </tr>\n    <tr>\n      <th>36</th>\n      <td>West Toronto</td>\n      <td>0</td>\n      <td>Café</td>\n      <td>Coffee Shop</td>\n      <td>Pub</td>\n      <td>Pizza Place</td>\n      <td>Sushi Restaurant</td>\n      <td>Italian Restaurant</td>\n      <td>Yoga Studio</td>\n      <td>Gourmet Shop</td>\n      <td>Restaurant</td>\n      <td>Latin American Restaurant</td>\n    </tr>\n    <tr>\n      <th>37</th>\n      <td>Downtown Toronto</td>\n      <td>0</td>\n      <td>Coffee Shop</td>\n      <td>Yoga Studio</td>\n      <td>Diner</td>\n      <td>Restaurant</td>\n      <td>Portuguese Restaurant</td>\n      <td>Park</td>\n      <td>Music Venue</td>\n      <td>Mexican Restaurant</td>\n      <td>Italian Restaurant</td>\n      <td>Hobby Shop</td>\n    </tr>\n    <tr>\n      <th>38</th>\n      <td>East Toronto</td>\n      <td>0</td>\n      <td>Pizza Place</td>\n      <td>Garden Center</td>\n      <td>Farmers Market</td>\n      <td>Butcher</td>\n      <td>Brewery</td>\n      <td>Burrito Place</td>\n      <td>Recording Studio</td>\n      <td>Garden</td>\n      <td>Auto Workshop</td>\n      <td>Fast Food Restaurant</td>\n    </tr>\n  </tbody>\n</table>\n</div>"
     },
     "metadata": {},
     "execution_count": 217
    }
   ],
   "source": [
    "toronto_merged.loc[toronto_merged['Cluster Labels'] == 0, \n",
    "toronto_merged.columns[[1] + list(range(5, toronto_merged.shape[1]))]]"
   ]
  },
  {
   "source": [
    "**Cluster 2**"
   ],
   "cell_type": "markdown",
   "metadata": {}
  },
  {
   "cell_type": "code",
   "execution_count": 218,
   "metadata": {},
   "outputs": [
    {
     "output_type": "execute_result",
     "data": {
      "text/plain": [
       "           Borough  Cluster Labels 1st Most Common Venue  \\\n",
       "8  Central Toronto               1            Playground   \n",
       "\n",
       "  2nd Most Common Venue 3rd Most Common Venue 4th Most Common Venue  \\\n",
       "8                 Trail           Yoga Studio      Department Store   \n",
       "\n",
       "  5th Most Common Venue 6th Most Common Venue        7th Most Common Venue  \\\n",
       "8           Escape Room     Electronics Store  Eastern European Restaurant   \n",
       "\n",
       "  8th Most Common Venue 9th Most Common Venue 10th Most Common Venue  \n",
       "8   Dumpling Restaurant            Donut Shop       Doner Restaurant  "
      ],
      "text/html": "<div>\n<style scoped>\n    .dataframe tbody tr th:only-of-type {\n        vertical-align: middle;\n    }\n\n    .dataframe tbody tr th {\n        vertical-align: top;\n    }\n\n    .dataframe thead th {\n        text-align: right;\n    }\n</style>\n<table border=\"1\" class=\"dataframe\">\n  <thead>\n    <tr style=\"text-align: right;\">\n      <th></th>\n      <th>Borough</th>\n      <th>Cluster Labels</th>\n      <th>1st Most Common Venue</th>\n      <th>2nd Most Common Venue</th>\n      <th>3rd Most Common Venue</th>\n      <th>4th Most Common Venue</th>\n      <th>5th Most Common Venue</th>\n      <th>6th Most Common Venue</th>\n      <th>7th Most Common Venue</th>\n      <th>8th Most Common Venue</th>\n      <th>9th Most Common Venue</th>\n      <th>10th Most Common Venue</th>\n    </tr>\n  </thead>\n  <tbody>\n    <tr>\n      <th>8</th>\n      <td>Central Toronto</td>\n      <td>1</td>\n      <td>Playground</td>\n      <td>Trail</td>\n      <td>Yoga Studio</td>\n      <td>Department Store</td>\n      <td>Escape Room</td>\n      <td>Electronics Store</td>\n      <td>Eastern European Restaurant</td>\n      <td>Dumpling Restaurant</td>\n      <td>Donut Shop</td>\n      <td>Doner Restaurant</td>\n    </tr>\n  </tbody>\n</table>\n</div>"
     },
     "metadata": {},
     "execution_count": 218
    }
   ],
   "source": [
    "toronto_merged.loc[toronto_merged['Cluster Labels'] == 1, \n",
    "toronto_merged.columns[[1] + list(range(5, toronto_merged.shape[1]))]]"
   ]
  },
  {
   "source": [
    "**Cluster 3**"
   ],
   "cell_type": "markdown",
   "metadata": {}
  },
  {
   "cell_type": "code",
   "execution_count": 219,
   "metadata": {},
   "outputs": [
    {
     "output_type": "execute_result",
     "data": {
      "text/plain": [
       "           Borough  Cluster Labels 1st Most Common Venue  \\\n",
       "4  Central Toronto               2                  Park   \n",
       "\n",
       "  2nd Most Common Venue 3rd Most Common Venue 4th Most Common Venue  \\\n",
       "4              Bus Line           Swim School    Dim Sum Restaurant   \n",
       "\n",
       "  5th Most Common Venue 6th Most Common Venue 7th Most Common Venue  \\\n",
       "4  Ethiopian Restaurant           Escape Room     Electronics Store   \n",
       "\n",
       "         8th Most Common Venue 9th Most Common Venue 10th Most Common Venue  \n",
       "4  Eastern European Restaurant   Dumpling Restaurant             Donut Shop  "
      ],
      "text/html": "<div>\n<style scoped>\n    .dataframe tbody tr th:only-of-type {\n        vertical-align: middle;\n    }\n\n    .dataframe tbody tr th {\n        vertical-align: top;\n    }\n\n    .dataframe thead th {\n        text-align: right;\n    }\n</style>\n<table border=\"1\" class=\"dataframe\">\n  <thead>\n    <tr style=\"text-align: right;\">\n      <th></th>\n      <th>Borough</th>\n      <th>Cluster Labels</th>\n      <th>1st Most Common Venue</th>\n      <th>2nd Most Common Venue</th>\n      <th>3rd Most Common Venue</th>\n      <th>4th Most Common Venue</th>\n      <th>5th Most Common Venue</th>\n      <th>6th Most Common Venue</th>\n      <th>7th Most Common Venue</th>\n      <th>8th Most Common Venue</th>\n      <th>9th Most Common Venue</th>\n      <th>10th Most Common Venue</th>\n    </tr>\n  </thead>\n  <tbody>\n    <tr>\n      <th>4</th>\n      <td>Central Toronto</td>\n      <td>2</td>\n      <td>Park</td>\n      <td>Bus Line</td>\n      <td>Swim School</td>\n      <td>Dim Sum Restaurant</td>\n      <td>Ethiopian Restaurant</td>\n      <td>Escape Room</td>\n      <td>Electronics Store</td>\n      <td>Eastern European Restaurant</td>\n      <td>Dumpling Restaurant</td>\n      <td>Donut Shop</td>\n    </tr>\n  </tbody>\n</table>\n</div>"
     },
     "metadata": {},
     "execution_count": 219
    }
   ],
   "source": [
    "toronto_merged.loc[toronto_merged['Cluster Labels'] == 2, \n",
    "toronto_merged.columns[[1] + list(range(5, toronto_merged.shape[1]))]]"
   ]
  },
  {
   "source": [
    "**Cluster 4**"
   ],
   "cell_type": "markdown",
   "metadata": {}
  },
  {
   "cell_type": "code",
   "execution_count": 220,
   "metadata": {},
   "outputs": [
    {
     "output_type": "execute_result",
     "data": {
      "text/plain": [
       "             Borough  Cluster Labels 1st Most Common Venue  \\\n",
       "10  Downtown Toronto               3                  Park   \n",
       "23   Central Toronto               3                  Park   \n",
       "\n",
       "   2nd Most Common Venue 3rd Most Common Venue 4th Most Common Venue  \\\n",
       "10            Playground                 Trail      Department Store   \n",
       "23         Jewelry Store                 Trail      Sushi Restaurant   \n",
       "\n",
       "   5th Most Common Venue 6th Most Common Venue        7th Most Common Venue  \\\n",
       "10           Escape Room     Electronics Store  Eastern European Restaurant   \n",
       "23           Yoga Studio          Dessert Shop            Electronics Store   \n",
       "\n",
       "          8th Most Common Venue 9th Most Common Venue 10th Most Common Venue  \n",
       "10          Dumpling Restaurant            Donut Shop       Doner Restaurant  \n",
       "23  Eastern European Restaurant   Dumpling Restaurant             Donut Shop  "
      ],
      "text/html": "<div>\n<style scoped>\n    .dataframe tbody tr th:only-of-type {\n        vertical-align: middle;\n    }\n\n    .dataframe tbody tr th {\n        vertical-align: top;\n    }\n\n    .dataframe thead th {\n        text-align: right;\n    }\n</style>\n<table border=\"1\" class=\"dataframe\">\n  <thead>\n    <tr style=\"text-align: right;\">\n      <th></th>\n      <th>Borough</th>\n      <th>Cluster Labels</th>\n      <th>1st Most Common Venue</th>\n      <th>2nd Most Common Venue</th>\n      <th>3rd Most Common Venue</th>\n      <th>4th Most Common Venue</th>\n      <th>5th Most Common Venue</th>\n      <th>6th Most Common Venue</th>\n      <th>7th Most Common Venue</th>\n      <th>8th Most Common Venue</th>\n      <th>9th Most Common Venue</th>\n      <th>10th Most Common Venue</th>\n    </tr>\n  </thead>\n  <tbody>\n    <tr>\n      <th>10</th>\n      <td>Downtown Toronto</td>\n      <td>3</td>\n      <td>Park</td>\n      <td>Playground</td>\n      <td>Trail</td>\n      <td>Department Store</td>\n      <td>Escape Room</td>\n      <td>Electronics Store</td>\n      <td>Eastern European Restaurant</td>\n      <td>Dumpling Restaurant</td>\n      <td>Donut Shop</td>\n      <td>Doner Restaurant</td>\n    </tr>\n    <tr>\n      <th>23</th>\n      <td>Central Toronto</td>\n      <td>3</td>\n      <td>Park</td>\n      <td>Jewelry Store</td>\n      <td>Trail</td>\n      <td>Sushi Restaurant</td>\n      <td>Yoga Studio</td>\n      <td>Dessert Shop</td>\n      <td>Electronics Store</td>\n      <td>Eastern European Restaurant</td>\n      <td>Dumpling Restaurant</td>\n      <td>Donut Shop</td>\n    </tr>\n  </tbody>\n</table>\n</div>"
     },
     "metadata": {},
     "execution_count": 220
    }
   ],
   "source": [
    "toronto_merged.loc[toronto_merged['Cluster Labels'] == 3, \n",
    "toronto_merged.columns[[1] + list(range(5, toronto_merged.shape[1]))]]"
   ]
  },
  {
   "source": [
    "**Cluster 5**"
   ],
   "cell_type": "markdown",
   "metadata": {}
  },
  {
   "cell_type": "code",
   "execution_count": 221,
   "metadata": {},
   "outputs": [
    {
     "output_type": "execute_result",
     "data": {
      "text/plain": [
       "Empty DataFrame\n",
       "Columns: [Borough, Cluster Labels, 1st Most Common Venue, 2nd Most Common Venue, 3rd Most Common Venue, 4th Most Common Venue, 5th Most Common Venue, 6th Most Common Venue, 7th Most Common Venue, 8th Most Common Venue, 9th Most Common Venue, 10th Most Common Venue]\n",
       "Index: []"
      ],
      "text/html": "<div>\n<style scoped>\n    .dataframe tbody tr th:only-of-type {\n        vertical-align: middle;\n    }\n\n    .dataframe tbody tr th {\n        vertical-align: top;\n    }\n\n    .dataframe thead th {\n        text-align: right;\n    }\n</style>\n<table border=\"1\" class=\"dataframe\">\n  <thead>\n    <tr style=\"text-align: right;\">\n      <th></th>\n      <th>Borough</th>\n      <th>Cluster Labels</th>\n      <th>1st Most Common Venue</th>\n      <th>2nd Most Common Venue</th>\n      <th>3rd Most Common Venue</th>\n      <th>4th Most Common Venue</th>\n      <th>5th Most Common Venue</th>\n      <th>6th Most Common Venue</th>\n      <th>7th Most Common Venue</th>\n      <th>8th Most Common Venue</th>\n      <th>9th Most Common Venue</th>\n      <th>10th Most Common Venue</th>\n    </tr>\n  </thead>\n  <tbody>\n  </tbody>\n</table>\n</div>"
     },
     "metadata": {},
     "execution_count": 221
    }
   ],
   "source": [
    "toronto_merged.loc[toronto_merged['Cluster Labels'] == 5, \n",
    "toronto_merged.columns[[1] + list(range(5, toronto_merged.shape[1]))]]"
   ]
  }
 ]
}